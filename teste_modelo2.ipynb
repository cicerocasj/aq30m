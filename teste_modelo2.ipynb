{
 "cells": [
  {
   "cell_type": "code",
   "execution_count": 1,
   "metadata": {},
   "outputs": [
    {
     "name": "stderr",
     "output_type": "stream",
     "text": [
      "/home/queimadas/.conda/envs/py3/lib/python3.6/site-packages/sklearn/ensemble/weight_boosting.py:29: DeprecationWarning: numpy.core.umath_tests is an internal NumPy module and should not be imported. It will be removed in a future NumPy release.\n",
      "  from numpy.core.umath_tests import inner1d\n"
     ]
    }
   ],
   "source": [
    "import pandas as pd\n",
    "import numpy as np\n",
    "import datetime as dt\n",
    "from matplotlib import pyplot as plt\n",
    "from sklearn.cluster import KMeans\n",
    "from sklearn.ensemble import RandomForestClassifier\n",
    "from sklearn.neural_network import MLPClassifier\n",
    "from sklearn.metrics import confusion_matrix\n",
    "import seaborn as sn\n",
    "import matplotlib.pyplot as plt\n",
    "import numpy as np\n",
    "import seaborn as sns\n",
    "import itertools\n",
    "from sklearn.metrics import accuracy_score\n",
    "\n",
    "\n",
    "sns.set_style('darkgrid')\n",
    "%matplotlib inline"
   ]
  },
  {
   "cell_type": "code",
   "execution_count": 2,
   "metadata": {},
   "outputs": [],
   "source": [
    "class_names = ['queimada','não queimada']\n",
    "colunas_stats = ['ndvi', 'nbrl', 'dif_ndvi', 'dif_dnbrl', 'medianb2', 'medianb3', 'medianb4', 'medianb5', 'medianb6', 'medianb7']"
   ]
  },
  {
   "cell_type": "code",
   "execution_count": 3,
   "metadata": {},
   "outputs": [],
   "source": [
    "def get_melhores_colunas(df_rank):\n",
    "    label_grupo_bom = df_rank[df_rank[1]==df_rank[1].max()].labels.values[0]\n",
    "    melhores_colunas = df_rank[df_rank['labels']==label_grupo_bom][0]\n",
    "    cols = melhores_colunas.values.tolist()\n",
    "    return cols\n",
    "def get_rank(df_conhecimento):\n",
    "    # Criando classificador RF\n",
    "    rf_clas = RandomForestClassifier(n_jobs=8, n_estimators=100, max_features=5, random_state=0, max_depth=3, min_samples_split=5)\n",
    "    rf_clas.fit(df_conhecimento[colunas_stats], df_conhecimento.verifica)\n",
    "    \n",
    "    # Criando rank colunas\n",
    "    df_rank = pd.DataFrame(sorted(list(zip(colunas_stats,rf_clas.feature_importances_)), key=lambda x: x[1], reverse=True))\n",
    "    \n",
    "    # Divide colunas em 2 grupos\n",
    "    dados = df_rank[[1]].values\n",
    "    kmeans = KMeans(n_clusters=2, init='k-means++', n_init=10, max_iter=300, n_jobs=8)\n",
    "    kmeans = kmeans.fit(dados)\n",
    "    labels = kmeans.predict(dados)\n",
    "    df_rank['labels'] = labels\n",
    "    \n",
    "    return df_rank\n",
    "\n",
    "def plot_confusion_matrix(cm, classes,\n",
    "                          normalize=False,\n",
    "                          title='Confusion matrix',\n",
    "                          cmap=plt.cm.Blues):\n",
    "    \"\"\"\n",
    "    This function prints and plots the confusion matrix.\n",
    "    Normalization can be applied by setting `normalize=True`.\n",
    "    \"\"\"\n",
    "    if normalize:\n",
    "        cm = cm.astype('float') / cm.sum(axis=1)[:, np.newaxis]\n",
    "        print(\"Normalized confusion matrix\")\n",
    "    else:\n",
    "        print('Confusion matrix, without normalization')\n",
    "\n",
    "    print(cm)\n",
    "\n",
    "    plt.imshow(cm, interpolation='nearest', cmap=cmap)\n",
    "    plt.title(title)\n",
    "    plt.colorbar()\n",
    "    tick_marks = np.arange(len(classes))\n",
    "    plt.xticks(tick_marks, classes, rotation=45)\n",
    "    plt.yticks(tick_marks, classes)\n",
    "\n",
    "    fmt = '.2f' if normalize else 'd'\n",
    "    thresh = cm.max() / 2.\n",
    "    for i, j in itertools.product(range(cm.shape[0]), range(cm.shape[1])):\n",
    "        plt.text(j, i, format(cm[i, j], fmt),\n",
    "                 horizontalalignment=\"center\",\n",
    "                 color=\"white\" if cm[i, j] > thresh else \"black\")\n",
    "\n",
    "    plt.ylabel('True label')\n",
    "    plt.xlabel('Predicted label')\n",
    "    plt.tight_layout()"
   ]
  },
  {
   "cell_type": "code",
   "execution_count": 4,
   "metadata": {},
   "outputs": [
    {
     "name": "stdout",
     "output_type": "stream",
     "text": [
      "(25786, 13)\n",
      "7735\n",
      "18051\n"
     ]
    }
   ],
   "source": [
    "# Configura Modelo e teste com 70%-30%\n",
    "df = pd.read_csv('conhecimento_filtrado.csv')\n",
    "\n",
    "df1 = df[df.verifica==1].copy().reset_index(drop=True)\n",
    "df3_full = df[df.verifica==3].copy().reset_index(drop=True)\n",
    "\n",
    "ids_3 = np.random.choice(df3_full.id, len(df1), replace=False)\n",
    "df3 = df[df.id.isin(ids_3)].copy().reset_index(drop=True)\n",
    "\n",
    "df_conhecimento = pd.concat([df1, df3])\n",
    "print(df_conhecimento.shape)\n",
    "\n",
    "# Gera amostra para teste\n",
    "parte_30 = int((len(df_conhecimento)/100)*30)\n",
    "ids_30 = np.random.choice(df_conhecimento.id, parte_30, replace=False)\n",
    "teste_original = df_conhecimento[df_conhecimento.id.isin(ids_30)].copy().reset_index(drop=True)\n",
    "teste = teste_original.copy()\n",
    "teste['verifica'] = 0\n",
    "print(len(teste_original))\n",
    "\n",
    "# Modelo\n",
    "modelo = df_conhecimento[~df_conhecimento.id.isin(ids_30)].copy()\n",
    "print(len(modelo))"
   ]
  },
  {
   "cell_type": "code",
   "execution_count": 5,
   "metadata": {},
   "outputs": [],
   "source": [
    "def classifica(modelo, teste):\n",
    "    print('Criando classificador RF')\n",
    "    rf_clas = RandomForestClassifier(n_jobs=8, n_estimators=100, max_features=5, random_state=0, max_depth=3, min_samples_split=5)\n",
    "    rf_clas.fit(modelo[colunas_stats], modelo.verifica)\n",
    "    \n",
    "    df_rank = get_rank(modelo)\n",
    "    melhores_colunas = get_melhores_colunas(df_rank)\n",
    "    \n",
    "    print('RF - Classifica dado usando as melhores colunas')\n",
    "    rf_clas = RandomForestClassifier(n_jobs=8, n_estimators=100, max_features=len(melhores_colunas), random_state=0, max_depth=3, min_samples_split=5)\n",
    "    rf_clas.fit(modelo[melhores_colunas], modelo.verifica)\n",
    "    teste['rf'] = rf_clas.predict(teste[melhores_colunas])\n",
    "    teste['rf_1'] = rf_clas.predict_proba(teste[melhores_colunas])[:, 0]\n",
    "    \n",
    "    print('Classificando com NN')\n",
    "    nn_clas = MLPClassifier(hidden_layer_sizes=(100,), activation='relu', solver='adam', alpha=0.00010, max_iter=200)\n",
    "    nn_clas.fit(modelo[melhores_colunas], modelo.verifica)\n",
    "    teste['nn'] = nn_clas.predict(teste[melhores_colunas])\n",
    "    teste['nn_1'] = nn_clas.predict_proba(teste[melhores_colunas])[:, 0]\n",
    "\n",
    "    print('Cria avaliacao usando (RF+NN)/2 - Arredondado para 3 casas decimais')\n",
    "    teste['avaliacao'] = (teste[\"rf_1\"] + teste[\"nn_1\"]) / 2\n",
    "    teste['avaliacao'] = teste['avaliacao'].apply(lambda x: round(x, 4))\n",
    "    \n",
    "    teste['classificacao'] = teste.avaliacao.apply(lambda x: 1 if x > 0.9 else 3)\n",
    "    teste['classificacao'].value_counts()\n",
    "    \n",
    "    return teste.sort_values('id').reset_index(drop=True)"
   ]
  },
  {
   "cell_type": "code",
   "execution_count": 6,
   "metadata": {},
   "outputs": [],
   "source": [
    "def mostra_resultado(y_pred, y_true):\n",
    "    cnf_matrix = confusion_matrix(y_true.verifica, y_pred.classificacao)\n",
    "    \n",
    "    plt.figure()\n",
    "    plot_confusion_matrix(cnf_matrix, classes=class_names, title='Quantitativo')\n",
    "\n",
    "    plt.figure()\n",
    "    plot_confusion_matrix(cnf_matrix, classes=class_names, normalize=True, title='Porcentagem')\n",
    "\n",
    "    plt.show()\n",
    "    total_acertos = accuracy_score(y_true.verifica, y_pred.classificacao, normalize=False)\n",
    "    porcentagem_acertos = int(accuracy_score(y_true.verifica, y_pred.classificacao)*100)\n",
    "    print('Acertos: %s/%s (%s%%)' % (total_acertos, len(teste), porcentagem_acertos) )"
   ]
  },
  {
   "cell_type": "code",
   "execution_count": 7,
   "metadata": {},
   "outputs": [
    {
     "name": "stdout",
     "output_type": "stream",
     "text": [
      "Criando classificador RF\n",
      "RF - Classifica dado usando as melhores colunas\n",
      "Classificando com NN\n",
      "Cria avaliacao usando (RF+NN)/2 - Arredondado para 3 casas decimais\n"
     ]
    }
   ],
   "source": [
    "y_pred = classifica(modelo, teste)\n",
    "y_true = teste_original.sort_values('id').reset_index(drop=True)"
   ]
  },
  {
   "cell_type": "code",
   "execution_count": 8,
   "metadata": {},
   "outputs": [
    {
     "name": "stdout",
     "output_type": "stream",
     "text": [
      "Confusion matrix, without normalization\n",
      "[[2688 1121]\n",
      " [  41 3885]]\n",
      "Normalized confusion matrix\n",
      "[[0.70569703 0.29430297]\n",
      " [0.0104432  0.9895568 ]]\n"
     ]
    },
    {
     "data": {
      "image/png": "[encoded data removed]",
      "text/plain": [
       "<Figure size 432x288 with 2 Axes>"
      ]
     },
     "metadata": {
      "needs_background": "light"
     },
     "output_type": "display_data"
    },
    {
     "data": {
      "image/png": "[encoded data removed]",
      "text/plain": [
       "<Figure size 432x288 with 2 Axes>"
      ]
     },
     "metadata": {
      "needs_background": "light"
     },
     "output_type": "display_data"
    },
    {
     "name": "stdout",
     "output_type": "stream",
     "text": [
      "Acertos: 6573/7735 (84%)\n"
     ]
    }
   ],
   "source": [
    "mostra_resultado(y_pred, y_true)"
   ]
  },
  {
   "cell_type": "code",
   "execution_count": null,
   "metadata": {},
   "outputs": [],
   "source": []
  }
 ],
 "metadata": {
  "kernelspec": {
   "display_name": "Python 3",
   "language": "python",
   "name": "python3"
  },
  "language_info": {
   "codemirror_mode": {
    "name": "ipython",
    "version": 3
   },
   "file_extension": ".py",
   "mimetype": "text/x-python",
   "name": "python",
   "nbconvert_exporter": "python",
   "pygments_lexer": "ipython3",
   "version": "3.6.6"
  }
 },
 "nbformat": 4,
 "nbformat_minor": 2
}
