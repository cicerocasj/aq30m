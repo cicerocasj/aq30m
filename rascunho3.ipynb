{
 "cells": [
  {
   "cell_type": "code",
   "execution_count": 2,
   "metadata": {},
   "outputs": [],
   "source": [
    "import pandas as pd\n",
    "import numpy as np\n",
    "import datetime as dt\n",
    "from matplotlib import pyplot as plt\n",
    "from sklearn.cluster import KMeans\n",
    "from sklearn.ensemble import RandomForestClassifier\n",
    "from sklearn.neural_network import MLPClassifier\n",
    "from sklearn.metrics import confusion_matrix\n",
    "import seaborn as sn\n",
    "import matplotlib.pyplot as plt\n",
    "import numpy as np\n",
    "import seaborn as sns\n",
    "import funcoes\n",
    "import itertools\n",
    "from sklearn.metrics import accuracy_score\n",
    "\n",
    "sns.set_style('darkgrid')\n",
    "%matplotlib inline"
   ]
  },
  {
   "cell_type": "code",
   "execution_count": 3,
   "metadata": {},
   "outputs": [],
   "source": [
    "df = pd.read_csv('conhecimento.csv')\n",
    "df['dia'] = df.id_cena.str[-3:].astype(int)\n",
    "\n",
    "id_cenas = [\n",
    "    # 'LS82260702016078', \n",
    "    'LS82260702017256', # 226_070\n",
    "    # 'LS82210702016059', \n",
    "    'LS82210702017269', # 221_070\n",
    "    # 'LS52210672002068', \n",
    "    'LS82210672017285', # 221_067\n",
    "    # 'LS82210742016059', \n",
    "    'LS82210742018128', # 221_074\n",
    "]\n",
    "col_sum = ['previsao', 'verdade', 'porcentagem', 'id_cena', 'caso']"
   ]
  },
  {
   "cell_type": "code",
   "execution_count": 4,
   "metadata": {},
   "outputs": [],
   "source": [
    "def gera_teste_modelo_caso2(id_cena):\n",
    "    \n",
    "    teste_original = df[df.id_cena==id_cena].copy().reset_index(drop=True)\n",
    "    teste = teste_original.copy()\n",
    "    teste['verifica'] = 0\n",
    "\n",
    "    # Modelo\n",
    "    modelo_inteiro = df[~(df.id_cena==id_cena)].copy()\n",
    "\n",
    "    modelo_inteiro_1 = modelo_inteiro[modelo_inteiro.verifica==1].copy()\n",
    "    modelo_inteiro_3_full = modelo_inteiro[modelo_inteiro.verifica==3].copy()\n",
    "\n",
    "    id3 = np.random.choice(modelo_inteiro_3_full.id, len(modelo_inteiro_1), replace=False) \n",
    "    modelo_inteiro_3 = modelo_inteiro_3_full[modelo_inteiro_3_full.id.isin(id3)]\n",
    "\n",
    "    modelo = pd.concat([modelo_inteiro_1, modelo_inteiro_3]).reset_index(drop=True)\n",
    "\n",
    "    return teste, teste_original, modelo\n",
    "def resultado(teste, teste_original, pred, verdade,verifica=1):\n",
    "    r = pd.merge(teste[['id', pred]], teste_original[['id', verdade]], on='id')\n",
    "    r['v'] = r[pred].astype(str) + r[verdade].astype(str)\n",
    "    \n",
    "    try:\n",
    "        x = len(r[(r[verdade]==verifica) & (r[pred] == verifica)])\n",
    "        v = len(r[r[verdade]==verifica])\n",
    "        p = int((x*100)/v)\n",
    "    except:\n",
    "        return [0, 0, 0]\n",
    "    return [x, v, p]"
   ]
  },
  {
   "cell_type": "code",
   "execution_count": 5,
   "metadata": {},
   "outputs": [],
   "source": [
    "def plt_desv(d, desvio, media, x, cor):\n",
    "    depois = media+(d*desvio)\n",
    "    antes = media-(d*desvio)\n",
    "    qta = len(x[(x>antes) & (x<depois)])\n",
    "    label = int((qta*100)/len(x))\n",
    "    \n",
    "    plt.axvline(depois, linestyle='dashed', linewidth=0.5, c=cor)\n",
    "    plt.text(depois, (d*2)/10, ' %s (%s%%)' % (d, label), color=cor)\n",
    "    \n",
    "    plt.axvline(antes, linestyle='dashed', linewidth=0.5, c=cor)\n",
    "    plt.text(antes, (d*2)/10, ' -%s' % d, color=cor)\n",
    "def densidade(col):\n",
    "    fig, ax = plt.subplots()\n",
    "    ax.set_title(col)\n",
    "    \n",
    "    ################### - 1 - #####################\n",
    "    x = df1[col]\n",
    "    media = np.mean(x)\n",
    "    mediana = np.median(x)\n",
    "    desvio = np.std(x)\n",
    "    x.plot.kde(ax=ax, legend=False, c='r', figsize=(15,8))\n",
    "    plt.axvline(media, linestyle='dashed', linewidth=2, c='red')\n",
    "    plt.text(media,3, ' Média', color='red')\n",
    "    \n",
    "    plt.axvline(mediana, linestyle='solid', linewidth=2, c='red')\n",
    "    plt.text(mediana,0, ' Mediana', color='red')\n",
    "\n",
    "    plt_desv(1, desvio, media, x, '#ffa284')\n",
    "    plt_desv(2, desvio, media, x, '#ff7b5a')\n",
    "    plt_desv(3, desvio, media, x, 'red')\n",
    "    ################### - 3 - #####################\n",
    "    x = df3_full[col]\n",
    "    media = np.mean(x)\n",
    "    mediana = np.median(x)\n",
    "    desvio = np.std(x)\n",
    "    x.plot.kde(ax=ax, legend=False, c='b', figsize=(15,8))\n",
    "    plt.axvline(media, linestyle='dashed', linewidth=2, c='blue')\n",
    "    plt.text(media,3, ' Média', color='blue')\n",
    "    plt.axvline(mediana, linestyle='solid', linewidth=2, c='blue')\n",
    "    plt.text(mediana,0, ' Mediana', color='red')\n",
    "\n",
    "    plt_desv(1, desvio, media, x, '#cfb1ff')\n",
    "    plt_desv(2, desvio, media, x, '#9265ff')\n",
    "    plt_desv(3, desvio, media, x, 'blue')\n",
    "def distribuicao(col):\n",
    "    fig, ax = plt.subplots()\n",
    "    ax.set_title(col)\n",
    "    df1[col].plot(ax=ax, legend=False, c='r', figsize=(15,8))\n",
    "    df3[col].plot(ax=ax, legend=False, c='b', figsize=(15,8))\n",
    "    \n",
    "def compara(col):\n",
    "    fig, ax = plt.subplots()\n",
    "    ax.set_title(col)\n",
    "    df1[col].plot.kde(ax=ax, legend=False, c='r', figsize=(15,8), label='df1')\n",
    "    df3[col].plot.kde(ax=ax, legend=False, c='b', figsize=(15,8), label='df3_amostra')\n",
    "    df3_full[col].plot.kde(ax=ax, legend=False, c='g', figsize=(15,8), label='df3_full')\n",
    "    ax.legend(loc='upper left')"
   ]
  },
  {
   "cell_type": "code",
   "execution_count": 6,
   "metadata": {},
   "outputs": [],
   "source": [
    "melhores_colunas = ['ndvi', 'nbrl', 'dif_ndvi', 'dif_dnbrl', 'medianb2', 'medianb3', 'medianb4', 'medianb5', 'medianb6', 'medianb7']"
   ]
  },
  {
   "cell_type": "code",
   "execution_count": 25,
   "metadata": {},
   "outputs": [],
   "source": [
    "teste, teste_original, modelo = gera_teste_modelo_caso2('LS82260702017256')"
   ]
  },
  {
   "cell_type": "code",
   "execution_count": null,
   "metadata": {},
   "outputs": [],
   "source": []
  },
  {
   "cell_type": "code",
   "execution_count": 26,
   "metadata": {},
   "outputs": [
    {
     "name": "stdout",
     "output_type": "stream",
     "text": [
      "RF - Classifica dado usando as colunas ['ndvi', 'nbrl', 'dif_ndvi', 'dif_dnbrl', 'medianb2', 'medianb3', 'medianb4', 'medianb5', 'medianb6', 'medianb7']\n"
     ]
    },
    {
     "data": {
      "text/plain": [
       "RandomForestClassifier(bootstrap=True, class_weight=None, criterion='gini',\n",
       "            max_depth=3, max_features=10, max_leaf_nodes=None,\n",
       "            min_impurity_decrease=0.0, min_impurity_split=None,\n",
       "            min_samples_leaf=1, min_samples_split=5,\n",
       "            min_weight_fraction_leaf=0.0, n_estimators=100, n_jobs=8,\n",
       "            oob_score=False, random_state=0, verbose=0, warm_start=False)"
      ]
     },
     "execution_count": 26,
     "metadata": {},
     "output_type": "execute_result"
    }
   ],
   "source": [
    "print('RF - Classifica dado usando as colunas', melhores_colunas)\n",
    "rf_clas = RandomForestClassifier(n_jobs=8, n_estimators=100, max_features=len(melhores_colunas), random_state=0, max_depth=3, min_samples_split=5)\n",
    "rf_clas.fit(modelo[melhores_colunas], modelo.verifica)"
   ]
  },
  {
   "cell_type": "code",
   "execution_count": 27,
   "metadata": {},
   "outputs": [],
   "source": [
    "teste['rf'] = rf_clas.predict(teste[melhores_colunas])"
   ]
  },
  {
   "cell_type": "code",
   "execution_count": 28,
   "metadata": {},
   "outputs": [],
   "source": [
    "teste['rf_1'] = rf_clas.predict_proba(teste[melhores_colunas])[:, 0]"
   ]
  },
  {
   "cell_type": "code",
   "execution_count": 29,
   "metadata": {},
   "outputs": [
    {
     "data": {
      "text/html": [
       "<div>\n",
       "<style scoped>\n",
       "    .dataframe tbody tr th:only-of-type {\n",
       "        vertical-align: middle;\n",
       "    }\n",
       "\n",
       "    .dataframe tbody tr th {\n",
       "        vertical-align: top;\n",
       "    }\n",
       "\n",
       "    .dataframe thead th {\n",
       "        text-align: right;\n",
       "    }\n",
       "</style>\n",
       "<table border=\"1\" class=\"dataframe\">\n",
       "  <thead>\n",
       "    <tr style=\"text-align: right;\">\n",
       "      <th></th>\n",
       "      <th>ndvi</th>\n",
       "      <th>nbrl</th>\n",
       "      <th>dif_ndvi</th>\n",
       "      <th>dif_dnbrl</th>\n",
       "      <th>medianb2</th>\n",
       "      <th>medianb3</th>\n",
       "      <th>medianb4</th>\n",
       "      <th>medianb5</th>\n",
       "      <th>medianb6</th>\n",
       "      <th>medianb7</th>\n",
       "      <th>id_cena</th>\n",
       "      <th>id</th>\n",
       "      <th>verifica</th>\n",
       "      <th>orb_pto</th>\n",
       "      <th>dia</th>\n",
       "      <th>rf</th>\n",
       "      <th>rf_1</th>\n",
       "    </tr>\n",
       "  </thead>\n",
       "  <tbody>\n",
       "    <tr>\n",
       "      <th>0</th>\n",
       "      <td>0.161971</td>\n",
       "      <td>-0.071473</td>\n",
       "      <td>0.232935</td>\n",
       "      <td>0.315308</td>\n",
       "      <td>0.109662</td>\n",
       "      <td>0.090275</td>\n",
       "      <td>0.091611</td>\n",
       "      <td>0.133856</td>\n",
       "      <td>0.18438</td>\n",
       "      <td>0.154984</td>\n",
       "      <td>LS82260702017256</td>\n",
       "      <td>5521903</td>\n",
       "      <td>0</td>\n",
       "      <td>226_070</td>\n",
       "      <td>256</td>\n",
       "      <td>1</td>\n",
       "      <td>0.927423</td>\n",
       "    </tr>\n",
       "    <tr>\n",
       "      <th>1</th>\n",
       "      <td>0.273488</td>\n",
       "      <td>-0.027434</td>\n",
       "      <td>0.133419</td>\n",
       "      <td>0.184614</td>\n",
       "      <td>0.132233</td>\n",
       "      <td>0.122451</td>\n",
       "      <td>0.138019</td>\n",
       "      <td>0.239580</td>\n",
       "      <td>0.35275</td>\n",
       "      <td>0.253837</td>\n",
       "      <td>LS82260702017256</td>\n",
       "      <td>5522275</td>\n",
       "      <td>0</td>\n",
       "      <td>226_070</td>\n",
       "      <td>256</td>\n",
       "      <td>1</td>\n",
       "      <td>0.641693</td>\n",
       "    </tr>\n",
       "  </tbody>\n",
       "</table>\n",
       "</div>"
      ],
      "text/plain": [
       "       ndvi      nbrl  dif_ndvi  dif_dnbrl  medianb2  medianb3  medianb4  \\\n",
       "0  0.161971 -0.071473  0.232935   0.315308  0.109662  0.090275  0.091611   \n",
       "1  0.273488 -0.027434  0.133419   0.184614  0.132233  0.122451  0.138019   \n",
       "\n",
       "   medianb5  medianb6  medianb7           id_cena       id  verifica  orb_pto  \\\n",
       "0  0.133856   0.18438  0.154984  LS82260702017256  5521903         0  226_070   \n",
       "1  0.239580   0.35275  0.253837  LS82260702017256  5522275         0  226_070   \n",
       "\n",
       "   dia  rf      rf_1  \n",
       "0  256   1  0.927423  \n",
       "1  256   1  0.641693  "
      ]
     },
     "execution_count": 29,
     "metadata": {},
     "output_type": "execute_result"
    }
   ],
   "source": [
    "teste.head(2)"
   ]
  },
  {
   "cell_type": "code",
   "execution_count": 30,
   "metadata": {},
   "outputs": [
    {
     "data": {
      "text/plain": [
       "<matplotlib.axes._subplots.AxesSubplot at 0x7fc906f11470>"
      ]
     },
     "execution_count": 30,
     "metadata": {},
     "output_type": "execute_result"
    },
    {
     "data": {
      "image/png": "[encoded data removed]",
      "text/plain": [
       "<Figure size 432x288 with 1 Axes>"
      ]
     },
     "metadata": {
      "needs_background": "light"
     },
     "output_type": "display_data"
    }
   ],
   "source": [
    "teste.rf_1.hist()"
   ]
  },
  {
   "cell_type": "code",
   "execution_count": 31,
   "metadata": {},
   "outputs": [],
   "source": [
    "teste['avaliacao'] = teste.rf_1.apply(lambda x: 1 if x > 0.9 else 3)"
   ]
  },
  {
   "cell_type": "code",
   "execution_count": 36,
   "metadata": {},
   "outputs": [
    {
     "name": "stdout",
     "output_type": "stream",
     "text": [
      "[150, 156, 96]\n",
      "[37, 156, 23]\n"
     ]
    }
   ],
   "source": [
    "y_pred = teste.sort_values('id').reset_index(drop=True)\n",
    "y_true = teste_original.sort_values('id').reset_index(drop=True)\n",
    "print(resultado(y_pred, y_true, 'avaliacao', 'verifica', verifica=3))\n",
    "print(resultado(y_pred, y_true, 'rf', 'verifica', verifica=3))"
   ]
  },
  {
   "cell_type": "code",
   "execution_count": 34,
   "metadata": {},
   "outputs": [
    {
     "data": {
      "text/plain": [
       "1    805\n",
       "3    156\n",
       "Name: verifica, dtype: int64"
      ]
     },
     "execution_count": 34,
     "metadata": {},
     "output_type": "execute_result"
    }
   ],
   "source": [
    "teste_original.verifica.value_counts()"
   ]
  },
  {
   "cell_type": "code",
   "execution_count": 15,
   "metadata": {},
   "outputs": [
    {
     "data": {
      "text/plain": [
       "MLPClassifier(activation='relu', alpha=0.0001, batch_size='auto', beta_1=0.9,\n",
       "       beta_2=0.999, early_stopping=False, epsilon=1e-08,\n",
       "       hidden_layer_sizes=(100,), learning_rate='constant',\n",
       "       learning_rate_init=0.001, max_iter=200, momentum=0.9,\n",
       "       nesterovs_momentum=True, power_t=0.5, random_state=None,\n",
       "       shuffle=True, solver='adam', tol=0.0001, validation_fraction=0.1,\n",
       "       verbose=False, warm_start=False)"
      ]
     },
     "execution_count": 15,
     "metadata": {},
     "output_type": "execute_result"
    }
   ],
   "source": [
    "nn_clas = MLPClassifier(hidden_layer_sizes=(100,), activation='relu', solver='adam', alpha=0.00010, max_iter=200)\n",
    "nn_clas.fit(modelo[melhores_colunas], modelo.verifica)"
   ]
  },
  {
   "cell_type": "code",
   "execution_count": null,
   "metadata": {},
   "outputs": [],
   "source": []
  },
  {
   "cell_type": "code",
   "execution_count": 16,
   "metadata": {},
   "outputs": [],
   "source": [
    "teste['nn'] = nn_clas.predict(teste[melhores_colunas])"
   ]
  },
  {
   "cell_type": "code",
   "execution_count": 17,
   "metadata": {},
   "outputs": [],
   "source": [
    "teste['nn_1'] = nn_clas.predict_proba(teste[melhores_colunas])[:, 0]"
   ]
  },
  {
   "cell_type": "code",
   "execution_count": 18,
   "metadata": {},
   "outputs": [
    {
     "data": {
      "text/html": [
       "<div>\n",
       "<style scoped>\n",
       "    .dataframe tbody tr th:only-of-type {\n",
       "        vertical-align: middle;\n",
       "    }\n",
       "\n",
       "    .dataframe tbody tr th {\n",
       "        vertical-align: top;\n",
       "    }\n",
       "\n",
       "    .dataframe thead th {\n",
       "        text-align: right;\n",
       "    }\n",
       "</style>\n",
       "<table border=\"1\" class=\"dataframe\">\n",
       "  <thead>\n",
       "    <tr style=\"text-align: right;\">\n",
       "      <th></th>\n",
       "      <th>ndvi</th>\n",
       "      <th>nbrl</th>\n",
       "      <th>dif_ndvi</th>\n",
       "      <th>dif_dnbrl</th>\n",
       "      <th>medianb2</th>\n",
       "      <th>medianb3</th>\n",
       "      <th>medianb4</th>\n",
       "      <th>medianb5</th>\n",
       "      <th>medianb6</th>\n",
       "      <th>medianb7</th>\n",
       "      <th>id_cena</th>\n",
       "      <th>id</th>\n",
       "      <th>verifica</th>\n",
       "      <th>orb_pto</th>\n",
       "      <th>dia</th>\n",
       "      <th>rf</th>\n",
       "      <th>rf_1</th>\n",
       "      <th>avaliacao</th>\n",
       "      <th>nn</th>\n",
       "      <th>nn_1</th>\n",
       "    </tr>\n",
       "  </thead>\n",
       "  <tbody>\n",
       "    <tr>\n",
       "      <th>0</th>\n",
       "      <td>0.162181</td>\n",
       "      <td>0.032588</td>\n",
       "      <td>0.275118</td>\n",
       "      <td>0.224989</td>\n",
       "      <td>0.093149</td>\n",
       "      <td>0.077148</td>\n",
       "      <td>0.100090</td>\n",
       "      <td>0.139473</td>\n",
       "      <td>0.158032</td>\n",
       "      <td>0.131164</td>\n",
       "      <td>LS82210742018128</td>\n",
       "      <td>7531957</td>\n",
       "      <td>0</td>\n",
       "      <td>221_074</td>\n",
       "      <td>128</td>\n",
       "      <td>1</td>\n",
       "      <td>0.927790</td>\n",
       "      <td>1</td>\n",
       "      <td>1</td>\n",
       "      <td>0.992239</td>\n",
       "    </tr>\n",
       "    <tr>\n",
       "      <th>1</th>\n",
       "      <td>0.306417</td>\n",
       "      <td>0.235064</td>\n",
       "      <td>0.412628</td>\n",
       "      <td>0.496806</td>\n",
       "      <td>0.149150</td>\n",
       "      <td>0.166385</td>\n",
       "      <td>0.219121</td>\n",
       "      <td>0.410860</td>\n",
       "      <td>0.431184</td>\n",
       "      <td>0.255387</td>\n",
       "      <td>LS82210742018128</td>\n",
       "      <td>7534930</td>\n",
       "      <td>0</td>\n",
       "      <td>221_074</td>\n",
       "      <td>128</td>\n",
       "      <td>3</td>\n",
       "      <td>0.013716</td>\n",
       "      <td>3</td>\n",
       "      <td>3</td>\n",
       "      <td>0.000369</td>\n",
       "    </tr>\n",
       "  </tbody>\n",
       "</table>\n",
       "</div>"
      ],
      "text/plain": [
       "       ndvi      nbrl  dif_ndvi  dif_dnbrl  medianb2  medianb3  medianb4  \\\n",
       "0  0.162181  0.032588  0.275118   0.224989  0.093149  0.077148  0.100090   \n",
       "1  0.306417  0.235064  0.412628   0.496806  0.149150  0.166385  0.219121   \n",
       "\n",
       "   medianb5  medianb6  medianb7           id_cena       id  verifica  orb_pto  \\\n",
       "0  0.139473  0.158032  0.131164  LS82210742018128  7531957         0  221_074   \n",
       "1  0.410860  0.431184  0.255387  LS82210742018128  7534930         0  221_074   \n",
       "\n",
       "   dia  rf      rf_1  avaliacao  nn      nn_1  \n",
       "0  128   1  0.927790          1   1  0.992239  \n",
       "1  128   3  0.013716          3   3  0.000369  "
      ]
     },
     "execution_count": 18,
     "metadata": {},
     "output_type": "execute_result"
    }
   ],
   "source": [
    "teste.head(2)"
   ]
  },
  {
   "cell_type": "code",
   "execution_count": 22,
   "metadata": {},
   "outputs": [
    {
     "data": {
      "text/plain": [
       "<matplotlib.axes._subplots.AxesSubplot at 0x7fc906f90748>"
      ]
     },
     "execution_count": 22,
     "metadata": {},
     "output_type": "execute_result"
    },
    {
     "data": {
      "image/png": "[encoded data removed]",
      "text/plain": [
       "<Figure size 432x288 with 1 Axes>"
      ]
     },
     "metadata": {
      "needs_background": "light"
     },
     "output_type": "display_data"
    }
   ],
   "source": [
    "teste.rf_1.hist()\n",
    "teste.nn_1.hist()"
   ]
  },
  {
   "cell_type": "code",
   "execution_count": 23,
   "metadata": {},
   "outputs": [],
   "source": [
    "teste['avaliacao2'] = teste.nn_1.apply(lambda x: 1 if x > 0.9 else 3)"
   ]
  },
  {
   "cell_type": "code",
   "execution_count": 24,
   "metadata": {},
   "outputs": [
    {
     "name": "stdout",
     "output_type": "stream",
     "text": [
      "[767, 1072, 71]\n",
      "[976, 1072, 91]\n"
     ]
    }
   ],
   "source": [
    "y_pred = teste.sort_values('id').reset_index(drop=True)\n",
    "y_true = teste_original.sort_values('id').reset_index(drop=True)\n",
    "print(resultado(y_pred, y_true, 'avaliacao2', 'verifica'))\n",
    "print(resultado(y_pred, y_true, 'nn', 'verifica'))"
   ]
  }
 ],
 "metadata": {
  "kernelspec": {
   "display_name": "Python 3",
   "language": "python",
   "name": "python3"
  },
  "language_info": {
   "codemirror_mode": {
    "name": "ipython",
    "version": 3
   },
   "file_extension": ".py",
   "mimetype": "text/x-python",
   "name": "python",
   "nbconvert_exporter": "python",
   "pygments_lexer": "ipython3",
   "version": "3.6.6"
  }
 },
 "nbformat": 4,
 "nbformat_minor": 2
}
