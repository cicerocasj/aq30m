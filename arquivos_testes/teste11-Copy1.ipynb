{
 "cells": [
  {
   "cell_type": "code",
   "execution_count": 2,
   "metadata": {},
   "outputs": [],
   "source": [
    "import pandas as pd\n",
    "import numpy as np\n",
    "import matplotlib.pyplot as plt\n",
    "import seaborn as sns\n",
    "import classificacao\n",
    "\n",
    "sns.set_style('darkgrid')\n",
    "%matplotlib inline"
   ]
  },
  {
   "cell_type": "code",
   "execution_count": 6,
   "metadata": {},
   "outputs": [],
   "source": [
    "df = pd.read_csv('conhecimento.csv')\n",
    "df['dia'] = df.id_cena.str[-3:].astype(int)\n",
    "\n",
    "id_cenas = [\n",
    "    'LS82260702016078', 'LS82260702017256', # 226_070\n",
    "    'LS82210702016059', 'LS82210702017269', # 221_070\n",
    "    'LS52210672002068', 'LS82210672017285', # 221_067\n",
    "    'LS82210742016059', 'LS82210742018128', # 221_074\n",
    "]\n"
   ]
  },
  {
   "cell_type": "code",
   "execution_count": 18,
   "metadata": {},
   "outputs": [],
   "source": [
    "def gera_teste_modelo_caso1(id_cena):\n",
    "    print(id_cena)\n",
    "\n",
    "    teste_original = df[df.id_cena== id_cena].copy().reset_index(drop=True)\n",
    "    teste = teste_original.copy()\n",
    "    teste['verifica'] = 0\n",
    "    print(len(teste_original))\n",
    "\n",
    "    # Modelo\n",
    "    modelo = df[~(df.id_cena==id_cena)].copy()\n",
    "\n",
    "    print(len(modelo))\n",
    "    print(modelo.verifica.value_counts())\n",
    "    return teste, teste_original, modelo"
   ]
  },
  {
   "cell_type": "code",
   "execution_count": 23,
   "metadata": {},
   "outputs": [
    {
     "name": "stdout",
     "output_type": "stream",
     "text": [
      "(388551, 15) 256 LS82260702017256\n",
      "961\n",
      "387590\n",
      "3    275211\n",
      "1    112379\n",
      "Name: verifica, dtype: int64\n",
      "Criando classificador RF\n",
      "RF - Classifica dado usando as colunas ['nbrl', 'medianb5']\n",
      "Classificando com NN\n",
      "Cria avaliacao usando (RF+NN)/2 - Arredondado para 3 casas decimais\n",
      "Confusion matrix, without normalization\n",
      "[[745  60]\n",
      " [  1 155]]\n",
      "Normalized confusion matrix\n",
      "[[0.92546584 0.07453416]\n",
      " [0.00641026 0.99358974]]\n"
     ]
    },
    {
     "data": {
      "image/png": "[encoded data removed]",
      "text/plain": [
       "<Figure size 432x288 with 2 Axes>"
      ]
     },
     "metadata": {
      "needs_background": "light"
     },
     "output_type": "display_data"
    },
    {
     "data": {
      "image/png": "[encoded data removed]",
      "text/plain": [
       "<Figure size 432x288 with 2 Axes>"
      ]
     },
     "metadata": {
      "needs_background": "light"
     },
     "output_type": "display_data"
    },
    {
     "name": "stdout",
     "output_type": "stream",
     "text": [
      "Acertos: 900/961 (93%)\n",
      "LS82260702017256\n"
     ]
    }
   ],
   "source": [
    "for id_cena in id_cenas:\n",
    "    id_cena = 'LS82260702017256'\n",
    "    teste, teste_original, modelo = gera_teste_modelo(id_cena)\n",
    "    \n",
    "    y_pred = classificacao.classifica(modelo, teste)\n",
    "    y_true = teste_original.sort_values('id').reset_index(drop=True)\n",
    "    \n",
    "    classificacao.mostra_resultado(y_pred, y_true)\n",
    "    print(id_cena)\n",
    "    break"
   ]
  },
  {
   "cell_type": "code",
   "execution_count": 12,
   "metadata": {},
   "outputs": [
    {
     "data": {
      "text/plain": [
       "3    1893\n",
       "1       1\n",
       "Name: verifica, dtype: int64"
      ]
     },
     "execution_count": 12,
     "metadata": {},
     "output_type": "execute_result"
    }
   ],
   "source": [
    "df[df.id_cena==id_cena].verifica.value_counts()"
   ]
  },
  {
   "cell_type": "code",
   "execution_count": 20,
   "metadata": {},
   "outputs": [],
   "source": [
    "def get_id_cenas(df, orb_pto):\n",
    "    return sorted(list(df[df.orb_pto==orb_pto].id_cena.unique()))"
   ]
  },
  {
   "cell_type": "code",
   "execution_count": 22,
   "metadata": {},
   "outputs": [
    {
     "data": {
      "text/plain": [
       "['LS82260702016078',\n",
       " 'LS82260702016094',\n",
       " 'LS82260702016110',\n",
       " 'LS82260702016158',\n",
       " 'LS82260702016190',\n",
       " 'LS82260702016206',\n",
       " 'LS82260702016222',\n",
       " 'LS82260702016238',\n",
       " 'LS82260702016254',\n",
       " 'LS82260702016270',\n",
       " 'LS82260702016302',\n",
       " 'LS82260702016334',\n",
       " 'LS82260702017096',\n",
       " 'LS82260702017112',\n",
       " 'LS82260702017128',\n",
       " 'LS82260702017144',\n",
       " 'LS82260702017160',\n",
       " 'LS82260702017176',\n",
       " 'LS82260702017192',\n",
       " 'LS82260702017208',\n",
       " 'LS82260702017224',\n",
       " 'LS82260702017240',\n",
       " 'LS82260702017256']"
      ]
     },
     "execution_count": 22,
     "metadata": {},
     "output_type": "execute_result"
    }
   ],
   "source": [
    "get_id_cenas(df, '226_070')"
   ]
  },
  {
   "cell_type": "code",
   "execution_count": 27,
   "metadata": {},
   "outputs": [],
   "source": [
    "# [[745  60]\n",
    "#  [  1 155]]"
   ]
  },
  {
   "cell_type": "code",
   "execution_count": 39,
   "metadata": {},
   "outputs": [],
   "source": [
    "def resultado(teste, teste_original):\n",
    "    r = pd.merge(teste[['id', 'classificacao']], teste_original[['id', 'verifica']], on='id')\n",
    "    r['v'] = r.classificacao.astype(str) + r.verifica.astype(str)\n",
    "    \n",
    "    x = len(r[(r.verifica==1) & (r.classificacao == 1)])\n",
    "    v = len(r[r.verifica==1])\n",
    "    p = int((x*100)/v)\n",
    "    \n",
    "    return x, v, p"
   ]
  },
  {
   "cell_type": "code",
   "execution_count": 40,
   "metadata": {},
   "outputs": [
    {
     "data": {
      "text/plain": [
       "(745, 805, 92)"
      ]
     },
     "execution_count": 40,
     "metadata": {},
     "output_type": "execute_result"
    }
   ],
   "source": [
    "resultado(teste, teste_original)"
   ]
  }
 ],
 "metadata": {
  "kernelspec": {
   "display_name": "Python 3",
   "language": "python",
   "name": "python3"
  },
  "language_info": {
   "codemirror_mode": {
    "name": "ipython",
    "version": 3
   },
   "file_extension": ".py",
   "mimetype": "text/x-python",
   "name": "python",
   "nbconvert_exporter": "python",
   "pygments_lexer": "ipython3",
   "version": "3.6.6"
  }
 },
 "nbformat": 4,
 "nbformat_minor": 2
}
