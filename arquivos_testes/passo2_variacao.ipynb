{
 "cells": [
  {
   "cell_type": "code",
   "execution_count": 1,
   "metadata": {},
   "outputs": [],
   "source": [
    "import pandas as pd\n",
    "import math\n",
    "import matplotlib.pyplot as plt\n",
    "import numpy as np\n",
    "import seaborn as sns\n",
    "\n",
    "sns.set_style('darkgrid')\n",
    "\n",
    "%matplotlib inline"
   ]
  },
  {
   "cell_type": "markdown",
   "metadata": {},
   "source": [
    "<h3>Leitura dos dados: Verifica 1 e Verifica 3</h3>"
   ]
  },
  {
   "cell_type": "code",
   "execution_count": 2,
   "metadata": {},
   "outputs": [],
   "source": [
    "df = pd.read_csv('conhecimento.csv')\n",
    "\n",
    "df1 = df[df.verifica==1].copy().reset_index(drop=True)\n",
    "df3_full = df[df.verifica==3].copy().reset_index(drop=True)\n",
    "\n",
    "ids_3 = np.random.choice(df3_full.id, len(df1), replace=False)\n",
    "df3 = df[df.id.isin(ids_3)].copy().reset_index(drop=True)"
   ]
  },
  {
   "cell_type": "markdown",
   "metadata": {},
   "source": [
    "<h3>Definição das funções usadas</h3>"
   ]
  },
  {
   "cell_type": "code",
   "execution_count": 5,
   "metadata": {},
   "outputs": [],
   "source": [
    "def gera_sumario(df):\n",
    "    dados = []\n",
    "    for c in cols:\n",
    "        d = df[c]\n",
    "        \n",
    "        dados.append([\n",
    "            c, # coluna\n",
    "            d.mean(),   # media\n",
    "            d.median(), # mediana\n",
    "            d.std()**2, # variancia\n",
    "            d.std(),    # std\n",
    "        ])\n",
    "    sumario = pd.DataFrame(dados, columns=['coluna', 'media', 'mediana', 'variancia', 'std'])\n",
    "    sumario = sumario.sort_values('std', ascending=False).copy().reset_index(drop=True)\n",
    "    return sumario\n",
    "cols = ['ndvi', 'nbrl', 'dif_ndvi', 'dif_dnbrl', 'medianb2', 'medianb3',\n",
    "       'medianb4', 'medianb5', 'medianb6', 'medianb7']"
   ]
  },
  {
   "cell_type": "markdown",
   "metadata": {},
   "source": [
    "<h3>Estatistica básica, ordenada pelo Desvio padrão(std)</h3>"
   ]
  },
  {
   "cell_type": "code",
   "execution_count": 6,
   "metadata": {},
   "outputs": [
    {
     "data": {
      "text/html": [
       "<div>\n",
       "<style scoped>\n",
       "    .dataframe tbody tr th:only-of-type {\n",
       "        vertical-align: middle;\n",
       "    }\n",
       "\n",
       "    .dataframe tbody tr th {\n",
       "        vertical-align: top;\n",
       "    }\n",
       "\n",
       "    .dataframe thead th {\n",
       "        text-align: right;\n",
       "    }\n",
       "</style>\n",
       "<table border=\"1\" class=\"dataframe\">\n",
       "  <thead>\n",
       "    <tr style=\"text-align: right;\">\n",
       "      <th></th>\n",
       "      <th>coluna</th>\n",
       "      <th>media</th>\n",
       "      <th>mediana</th>\n",
       "      <th>variancia</th>\n",
       "      <th>std</th>\n",
       "    </tr>\n",
       "  </thead>\n",
       "  <tbody>\n",
       "    <tr>\n",
       "      <th>0</th>\n",
       "      <td>medianb6</td>\n",
       "      <td>0.621125</td>\n",
       "      <td>0.233781</td>\n",
       "      <td>11.797833</td>\n",
       "      <td>3.434797</td>\n",
       "    </tr>\n",
       "    <tr>\n",
       "      <th>1</th>\n",
       "      <td>dif_dnbrl</td>\n",
       "      <td>0.248001</td>\n",
       "      <td>0.221400</td>\n",
       "      <td>0.014324</td>\n",
       "      <td>0.119682</td>\n",
       "    </tr>\n",
       "    <tr>\n",
       "      <th>2</th>\n",
       "      <td>dif_ndvi</td>\n",
       "      <td>0.173211</td>\n",
       "      <td>0.155019</td>\n",
       "      <td>0.008907</td>\n",
       "      <td>0.094378</td>\n",
       "    </tr>\n",
       "    <tr>\n",
       "      <th>3</th>\n",
       "      <td>nbrl</td>\n",
       "      <td>0.011152</td>\n",
       "      <td>0.009293</td>\n",
       "      <td>0.006253</td>\n",
       "      <td>0.079079</td>\n",
       "    </tr>\n",
       "    <tr>\n",
       "      <th>4</th>\n",
       "      <td>ndvi</td>\n",
       "      <td>0.226356</td>\n",
       "      <td>0.224413</td>\n",
       "      <td>0.003595</td>\n",
       "      <td>0.059957</td>\n",
       "    </tr>\n",
       "    <tr>\n",
       "      <th>5</th>\n",
       "      <td>medianb7</td>\n",
       "      <td>0.185466</td>\n",
       "      <td>0.183199</td>\n",
       "      <td>0.003146</td>\n",
       "      <td>0.056094</td>\n",
       "    </tr>\n",
       "    <tr>\n",
       "      <th>6</th>\n",
       "      <td>medianb5</td>\n",
       "      <td>0.188681</td>\n",
       "      <td>0.188654</td>\n",
       "      <td>0.002306</td>\n",
       "      <td>0.048024</td>\n",
       "    </tr>\n",
       "    <tr>\n",
       "      <th>7</th>\n",
       "      <td>medianb4</td>\n",
       "      <td>0.117826</td>\n",
       "      <td>0.114774</td>\n",
       "      <td>0.001087</td>\n",
       "      <td>0.032972</td>\n",
       "    </tr>\n",
       "    <tr>\n",
       "      <th>8</th>\n",
       "      <td>medianb3</td>\n",
       "      <td>0.099383</td>\n",
       "      <td>0.096094</td>\n",
       "      <td>0.000519</td>\n",
       "      <td>0.022776</td>\n",
       "    </tr>\n",
       "    <tr>\n",
       "      <th>9</th>\n",
       "      <td>medianb2</td>\n",
       "      <td>0.109385</td>\n",
       "      <td>0.106015</td>\n",
       "      <td>0.000305</td>\n",
       "      <td>0.017468</td>\n",
       "    </tr>\n",
       "  </tbody>\n",
       "</table>\n",
       "</div>"
      ],
      "text/plain": [
       "      coluna     media   mediana  variancia       std\n",
       "0   medianb6  0.621125  0.233781  11.797833  3.434797\n",
       "1  dif_dnbrl  0.248001  0.221400   0.014324  0.119682\n",
       "2   dif_ndvi  0.173211  0.155019   0.008907  0.094378\n",
       "3       nbrl  0.011152  0.009293   0.006253  0.079079\n",
       "4       ndvi  0.226356  0.224413   0.003595  0.059957\n",
       "5   medianb7  0.185466  0.183199   0.003146  0.056094\n",
       "6   medianb5  0.188681  0.188654   0.002306  0.048024\n",
       "7   medianb4  0.117826  0.114774   0.001087  0.032972\n",
       "8   medianb3  0.099383  0.096094   0.000519  0.022776\n",
       "9   medianb2  0.109385  0.106015   0.000305  0.017468"
      ]
     },
     "execution_count": 6,
     "metadata": {},
     "output_type": "execute_result"
    }
   ],
   "source": [
    "sumario1 = gera_sumario(df1)\n",
    "sumario1"
   ]
  },
  {
   "cell_type": "code",
   "execution_count": 7,
   "metadata": {},
   "outputs": [
    {
     "data": {
      "text/html": [
       "<div>\n",
       "<style scoped>\n",
       "    .dataframe tbody tr th:only-of-type {\n",
       "        vertical-align: middle;\n",
       "    }\n",
       "\n",
       "    .dataframe tbody tr th {\n",
       "        vertical-align: top;\n",
       "    }\n",
       "\n",
       "    .dataframe thead th {\n",
       "        text-align: right;\n",
       "    }\n",
       "</style>\n",
       "<table border=\"1\" class=\"dataframe\">\n",
       "  <thead>\n",
       "    <tr style=\"text-align: right;\">\n",
       "      <th></th>\n",
       "      <th>coluna</th>\n",
       "      <th>media</th>\n",
       "      <th>mediana</th>\n",
       "      <th>variancia</th>\n",
       "      <th>std</th>\n",
       "    </tr>\n",
       "  </thead>\n",
       "  <tbody>\n",
       "    <tr>\n",
       "      <th>0</th>\n",
       "      <td>medianb6</td>\n",
       "      <td>0.429499</td>\n",
       "      <td>0.296350</td>\n",
       "      <td>2.458867</td>\n",
       "      <td>1.568078</td>\n",
       "    </tr>\n",
       "    <tr>\n",
       "      <th>1</th>\n",
       "      <td>dif_dnbrl</td>\n",
       "      <td>0.290561</td>\n",
       "      <td>0.280125</td>\n",
       "      <td>0.012241</td>\n",
       "      <td>0.110638</td>\n",
       "    </tr>\n",
       "    <tr>\n",
       "      <th>2</th>\n",
       "      <td>dif_ndvi</td>\n",
       "      <td>0.233801</td>\n",
       "      <td>0.223712</td>\n",
       "      <td>0.009243</td>\n",
       "      <td>0.096139</td>\n",
       "    </tr>\n",
       "    <tr>\n",
       "      <th>3</th>\n",
       "      <td>nbrl</td>\n",
       "      <td>0.174658</td>\n",
       "      <td>0.169720</td>\n",
       "      <td>0.009172</td>\n",
       "      <td>0.095769</td>\n",
       "    </tr>\n",
       "    <tr>\n",
       "      <th>4</th>\n",
       "      <td>ndvi</td>\n",
       "      <td>0.314544</td>\n",
       "      <td>0.309641</td>\n",
       "      <td>0.007393</td>\n",
       "      <td>0.085980</td>\n",
       "    </tr>\n",
       "    <tr>\n",
       "      <th>5</th>\n",
       "      <td>medianb5</td>\n",
       "      <td>0.294977</td>\n",
       "      <td>0.290418</td>\n",
       "      <td>0.004351</td>\n",
       "      <td>0.065963</td>\n",
       "    </tr>\n",
       "    <tr>\n",
       "      <th>6</th>\n",
       "      <td>medianb7</td>\n",
       "      <td>0.209189</td>\n",
       "      <td>0.202143</td>\n",
       "      <td>0.003421</td>\n",
       "      <td>0.058490</td>\n",
       "    </tr>\n",
       "    <tr>\n",
       "      <th>7</th>\n",
       "      <td>medianb4</td>\n",
       "      <td>0.156387</td>\n",
       "      <td>0.151131</td>\n",
       "      <td>0.002566</td>\n",
       "      <td>0.050660</td>\n",
       "    </tr>\n",
       "    <tr>\n",
       "      <th>8</th>\n",
       "      <td>medianb3</td>\n",
       "      <td>0.143794</td>\n",
       "      <td>0.138785</td>\n",
       "      <td>0.002100</td>\n",
       "      <td>0.045821</td>\n",
       "    </tr>\n",
       "    <tr>\n",
       "      <th>9</th>\n",
       "      <td>medianb2</td>\n",
       "      <td>0.146009</td>\n",
       "      <td>0.138784</td>\n",
       "      <td>0.001770</td>\n",
       "      <td>0.042067</td>\n",
       "    </tr>\n",
       "  </tbody>\n",
       "</table>\n",
       "</div>"
      ],
      "text/plain": [
       "      coluna     media   mediana  variancia       std\n",
       "0   medianb6  0.429499  0.296350   2.458867  1.568078\n",
       "1  dif_dnbrl  0.290561  0.280125   0.012241  0.110638\n",
       "2   dif_ndvi  0.233801  0.223712   0.009243  0.096139\n",
       "3       nbrl  0.174658  0.169720   0.009172  0.095769\n",
       "4       ndvi  0.314544  0.309641   0.007393  0.085980\n",
       "5   medianb5  0.294977  0.290418   0.004351  0.065963\n",
       "6   medianb7  0.209189  0.202143   0.003421  0.058490\n",
       "7   medianb4  0.156387  0.151131   0.002566  0.050660\n",
       "8   medianb3  0.143794  0.138785   0.002100  0.045821\n",
       "9   medianb2  0.146009  0.138784   0.001770  0.042067"
      ]
     },
     "execution_count": 7,
     "metadata": {},
     "output_type": "execute_result"
    }
   ],
   "source": [
    "sumario3 = gera_sumario(df3)\n",
    "sumario3"
   ]
  },
  {
   "cell_type": "code",
   "execution_count": 12,
   "metadata": {},
   "outputs": [
    {
     "data": {
      "text/plain": [
       "<matplotlib.axes._subplots.AxesSubplot at 0x7fe3857376d8>"
      ]
     },
     "execution_count": 12,
     "metadata": {},
     "output_type": "execute_result"
    },
    {
     "data": {
      "image/png": "[encoded data removed]",
      "text/plain": [
       "<Figure size 936x360 with 1 Axes>"
      ]
     },
     "metadata": {
      "needs_background": "light"
     },
     "output_type": "display_data"
    },
    {
     "data": {
      "image/png": "[encoded data removed]",
      "text/plain": [
       "<Figure size 936x360 with 1 Axes>"
      ]
     },
     "metadata": {
      "needs_background": "light"
     },
     "output_type": "display_data"
    }
   ],
   "source": [
    "sumario1.plot(x=\"coluna\", y=['std'], kind=\"bar\", colormap='Reds_r', figsize=(13,5))\n",
    "sumario3.plot(x=\"coluna\", y=['std'], kind=\"bar\", colormap='Blues_r', figsize=(13,5))"
   ]
  },
  {
   "cell_type": "markdown",
   "metadata": {},
   "source": [
    "<h3>Conclusão</h3>\n",
    "<pre>\n",
    "- O atributo <b>medianb6</b> é o atributo com a maior variancia entre os valores mostrados\n",
    "- O mais com a maior variancia é considerado o mais <b>heterogêneo</b> e o com menor é o mais \n",
    "  <b>homogêneo</b>.\n",
    "- Não consegui comparar uma variancia com a outra, devido que os valores não estão na mesma escala\n",
    "- Uma possível solução é a normalização dos dados, para deixa-los na mesma escala.\n",
    "</pre>"
   ]
  }
 ],
 "metadata": {
  "kernelspec": {
   "display_name": "Python 3",
   "language": "python",
   "name": "python3"
  },
  "language_info": {
   "codemirror_mode": {
    "name": "ipython",
    "version": 3
   },
   "file_extension": ".py",
   "mimetype": "text/x-python",
   "name": "python",
   "nbconvert_exporter": "python",
   "pygments_lexer": "ipython3",
   "version": "3.6.6"
  }
 },
 "nbformat": 4,
 "nbformat_minor": 2
}
