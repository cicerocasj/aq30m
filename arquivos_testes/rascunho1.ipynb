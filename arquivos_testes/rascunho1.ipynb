{
 "cells": [
  {
   "cell_type": "code",
   "execution_count": 2,
   "metadata": {},
   "outputs": [],
   "source": [
    "import pandas as pd\n",
    "import numpy as np\n",
    "import matplotlib.pyplot as plt\n",
    "import seaborn as sns\n",
    "import classificacao\n",
    "\n",
    "sns.set_style('darkgrid')\n",
    "%matplotlib inline"
   ]
  },
  {
   "cell_type": "code",
   "execution_count": 3,
   "metadata": {},
   "outputs": [],
   "source": [
    "df = pd.read_csv('conhecimento.csv')\n",
    "df['dia'] = df.id_cena.str[-3:].astype(int)\n",
    "\n",
    "id_cenas = [\n",
    "    # 'LS82260702016078', \n",
    "    'LS82260702017256', # 226_070\n",
    "    # 'LS82210702016059', \n",
    "    'LS82210702017269', # 221_070\n",
    "    # 'LS52210672002068', \n",
    "    'LS82210672017285', # 221_067\n",
    "    # 'LS82210742016059', \n",
    "    'LS82210742018128', # 221_074\n",
    "]\n",
    "col_sum = ['previsao', 'verdade', 'porcentagem', 'id_cena', 'caso']"
   ]
  },
  {
   "cell_type": "code",
   "execution_count": 4,
   "metadata": {},
   "outputs": [],
   "source": [
    "def gera_teste_modelo_caso4(id_cena):\n",
    "    print(id_cena)\n",
    "    \n",
    "    dia = int(id_cena[-3:])\n",
    "    print(df.shape, dia, id_cena)\n",
    "\n",
    "    teste_original = df[df.id_cena== id_cena].copy().reset_index(drop=True)\n",
    "    teste = teste_original.copy()\n",
    "    teste['verifica'] = 0\n",
    "    print(len(teste_original))\n",
    "\n",
    "    # Modelo\n",
    "    op = teste.orb_pto.loc[0]\n",
    "    print(op)\n",
    "    modelo = df[(df.orb_pto == op)].copy()\n",
    "\n",
    "    print(len(modelo))\n",
    "    print(modelo.verifica.value_counts())\n",
    "\n",
    "    return teste, teste_original, modelo"
   ]
  },
  {
   "cell_type": "code",
   "execution_count": 5,
   "metadata": {},
   "outputs": [],
   "source": [
    "def get_id_cenas(df, orb_pto):\n",
    "    return sorted(list(df[df.orb_pto==orb_pto].id_cena.unique()))\n",
    "def resultado(teste, teste_original, verifica=1):\n",
    "    r = pd.merge(teste[['id', 'classificacao']], teste_original[['id', 'verifica']], on='id')\n",
    "    r['v'] = r.classificacao.astype(str) + r.verifica.astype(str)\n",
    "    \n",
    "    try:\n",
    "        x = len(r[(r.verifica==verifica) & (r.classificacao == verifica)])\n",
    "        v = len(r[r.verifica==verifica])\n",
    "        p = int((x*100)/v)\n",
    "    except:\n",
    "        return [0, 0, 0]\n",
    "    return [x, v, p]"
   ]
  },
  {
   "cell_type": "code",
   "execution_count": 6,
   "metadata": {},
   "outputs": [],
   "source": [
    "colunas_stats = ['ndvi', 'nbrl', 'dif_ndvi', 'dif_dnbrl', 'medianb2', 'medianb3', 'medianb4', 'medianb5', 'medianb6', 'medianb7']"
   ]
  },
  {
   "cell_type": "code",
   "execution_count": 7,
   "metadata": {},
   "outputs": [
    {
     "name": "stdout",
     "output_type": "stream",
     "text": [
      "LS82260702017256\n",
      "(388551, 15) 256 LS82260702017256\n",
      "961\n",
      "226_070\n",
      "25179\n",
      "3    22397\n",
      "1     2782\n",
      "Name: verifica, dtype: int64\n",
      "Criando classificador RF\n",
      "RF - Classifica dado usando as colunas ['ndvi', 'nbrl', 'dif_ndvi', 'dif_dnbrl', 'medianb2', 'medianb3', 'medianb4', 'medianb5', 'medianb6', 'medianb7']\n",
      "Classificando com NN\n",
      "Cria avaliacao usando (RF+NN)/2 - Arredondado para 3 casas decimais\n",
      "[580, 805, 72, 'LS82260702017256', 1]\n",
      "LS82210702017269\n",
      "(388551, 15) 269 LS82210702017269\n",
      "801\n",
      "221_070\n",
      "62542\n",
      "3    55291\n",
      "1     7251\n",
      "Name: verifica, dtype: int64\n",
      "Criando classificador RF\n",
      "RF - Classifica dado usando as colunas ['ndvi', 'nbrl', 'dif_ndvi', 'dif_dnbrl', 'medianb2', 'medianb3', 'medianb4', 'medianb5', 'medianb6', 'medianb7']\n",
      "Classificando com NN\n",
      "Cria avaliacao usando (RF+NN)/2 - Arredondado para 3 casas decimais\n",
      "[291, 599, 48, 'LS82210702017269', 1]\n",
      "LS82210672017285\n",
      "(388551, 15) 285 LS82210672017285\n",
      "1674\n",
      "221_067\n",
      "100057\n",
      "3    55822\n",
      "1    44235\n",
      "Name: verifica, dtype: int64\n",
      "Criando classificador RF\n",
      "RF - Classifica dado usando as colunas ['ndvi', 'nbrl', 'dif_ndvi', 'dif_dnbrl', 'medianb2', 'medianb3', 'medianb4', 'medianb5', 'medianb6', 'medianb7']\n",
      "Classificando com NN\n",
      "Cria avaliacao usando (RF+NN)/2 - Arredondado para 3 casas decimais\n",
      "[738, 1102, 66, 'LS82210672017285', 1]\n",
      "LS82210742018128\n",
      "(388551, 15) 128 LS82210742018128\n",
      "3455\n",
      "221_074\n",
      "200773\n",
      "3    141857\n",
      "1     58916\n",
      "Name: verifica, dtype: int64\n",
      "Criando classificador RF\n",
      "RF - Classifica dado usando as colunas ['ndvi', 'nbrl', 'dif_ndvi', 'dif_dnbrl', 'medianb2', 'medianb3', 'medianb4', 'medianb5', 'medianb6', 'medianb7']\n",
      "Classificando com NN\n",
      "Cria avaliacao usando (RF+NN)/2 - Arredondado para 3 casas decimais\n",
      "[600, 1072, 55, 'LS82210742018128', 1]\n"
     ]
    }
   ],
   "source": [
    "sumario = pd.DataFrame([], columns=col_sum)\n",
    "for id_cena in id_cenas:\n",
    "    teste, teste_original, modelo = gera_teste_modelo_caso4(id_cena)\n",
    "    y_pred = classificacao.classifica(modelo, teste, colunas_stats)\n",
    "    y_true = teste_original.sort_values('id').reset_index(drop=True)\n",
    "    r = resultado(y_pred, y_true)\n",
    "    r.append(id_cena)\n",
    "    r.append(4)\n",
    "    sumario = sumario.append(dict(zip(col_sum, r)), ignore_index=True)\n",
    "\n",
    "    print(r)"
   ]
  },
  {
   "cell_type": "markdown",
   "metadata": {},
   "source": [
    "* Caso 1: Usando todo o conhecimento\n",
    "* Caso 2: Quantidade de verifica 1 e 3 iguais\n",
    "* Caso 3: Trimestre historico da orb_pto\n",
    "> Em todos casos, o dado da própria passagem foi removido do conhecimento. E só esta sendo contabilizado dados de acerto de QUEIMADA"
   ]
  },
  {
   "cell_type": "code",
   "execution_count": 10,
   "metadata": {},
   "outputs": [
    {
     "data": {
      "text/html": [
       "<div>\n",
       "<style scoped>\n",
       "    .dataframe tbody tr th:only-of-type {\n",
       "        vertical-align: middle;\n",
       "    }\n",
       "\n",
       "    .dataframe tbody tr th {\n",
       "        vertical-align: top;\n",
       "    }\n",
       "\n",
       "    .dataframe thead th {\n",
       "        text-align: right;\n",
       "    }\n",
       "</style>\n",
       "<table border=\"1\" class=\"dataframe\">\n",
       "  <thead>\n",
       "    <tr style=\"text-align: right;\">\n",
       "      <th></th>\n",
       "      <th>previsao</th>\n",
       "      <th>verdade</th>\n",
       "      <th>porcentagem</th>\n",
       "      <th>id_cena</th>\n",
       "      <th>caso</th>\n",
       "    </tr>\n",
       "  </thead>\n",
       "  <tbody>\n",
       "    <tr>\n",
       "      <th>0</th>\n",
       "      <td>580</td>\n",
       "      <td>805</td>\n",
       "      <td>72</td>\n",
       "      <td>LS82260702017256</td>\n",
       "      <td>4</td>\n",
       "    </tr>\n",
       "    <tr>\n",
       "      <th>1</th>\n",
       "      <td>291</td>\n",
       "      <td>599</td>\n",
       "      <td>48</td>\n",
       "      <td>LS82210702017269</td>\n",
       "      <td>4</td>\n",
       "    </tr>\n",
       "    <tr>\n",
       "      <th>2</th>\n",
       "      <td>738</td>\n",
       "      <td>1102</td>\n",
       "      <td>66</td>\n",
       "      <td>LS82210672017285</td>\n",
       "      <td>4</td>\n",
       "    </tr>\n",
       "    <tr>\n",
       "      <th>3</th>\n",
       "      <td>600</td>\n",
       "      <td>1072</td>\n",
       "      <td>55</td>\n",
       "      <td>LS82210742018128</td>\n",
       "      <td>4</td>\n",
       "    </tr>\n",
       "  </tbody>\n",
       "</table>\n",
       "</div>"
      ],
      "text/plain": [
       "  previsao verdade porcentagem           id_cena  caso\n",
       "0      580     805          72  LS82260702017256     4\n",
       "1      291     599          48  LS82210702017269     4\n",
       "2      738    1102          66  LS82210672017285     4\n",
       "3      600    1072          55  LS82210742018128     4"
      ]
     },
     "execution_count": 10,
     "metadata": {},
     "output_type": "execute_result"
    }
   ],
   "source": [
    "sumario"
   ]
  },
  {
   "cell_type": "code",
   "execution_count": 13,
   "metadata": {},
   "outputs": [],
   "source": [
    "sumario.rename(columns={'porcentagem': 'todas'}).to_csv('rascunho.csv', index=False)"
   ]
  }
 ],
 "metadata": {
  "kernelspec": {
   "display_name": "Python 3",
   "language": "python",
   "name": "python3"
  },
  "language_info": {
   "codemirror_mode": {
    "name": "ipython",
    "version": 3
   },
   "file_extension": ".py",
   "mimetype": "text/x-python",
   "name": "python",
   "nbconvert_exporter": "python",
   "pygments_lexer": "ipython3",
   "version": "3.6.6"
  }
 },
 "nbformat": 4,
 "nbformat_minor": 2
}
