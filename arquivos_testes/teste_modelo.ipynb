{
 "cells": [
  {
   "cell_type": "code",
   "execution_count": 1,
   "metadata": {},
   "outputs": [
    {
     "name": "stderr",
     "output_type": "stream",
     "text": [
      "/home/queimadas/.conda/envs/py3/lib/python3.6/site-packages/sklearn/ensemble/weight_boosting.py:29: DeprecationWarning: numpy.core.umath_tests is an internal NumPy module and should not be imported. It will be removed in a future NumPy release.\n",
      "  from numpy.core.umath_tests import inner1d\n"
     ]
    }
   ],
   "source": [
    "import pandas as pd\n",
    "import numpy as np\n",
    "import datetime as dt\n",
    "from matplotlib import pyplot as plt\n",
    "from sklearn.cluster import KMeans\n",
    "from sklearn.ensemble import RandomForestClassifier\n",
    "from sklearn.neural_network import MLPClassifier\n",
    "from sklearn.metrics import confusion_matrix\n",
    "import seaborn as sn\n",
    "import matplotlib.pyplot as plt\n",
    "import numpy as np\n",
    "import seaborn as sns\n",
    "import funcoes\n",
    "import itertools\n",
    "from sklearn.metrics import accuracy_score\n",
    "\n",
    "\n",
    "sns.set_style('darkgrid')\n",
    "%matplotlib inline"
   ]
  },
  {
   "cell_type": "code",
   "execution_count": 2,
   "metadata": {},
   "outputs": [],
   "source": [
    "class_names = ['queimada','não queimada']"
   ]
  },
  {
   "cell_type": "code",
   "execution_count": 3,
   "metadata": {},
   "outputs": [],
   "source": [
    "def get_melhores_colunas(df_rank):\n",
    "    label_grupo_bom = df_rank[df_rank[1]==df_rank[1].max()].labels.values[0]\n",
    "    melhores_colunas = df_rank[df_rank['labels']==label_grupo_bom][0]\n",
    "    cols = melhores_colunas.values.tolist()\n",
    "    return cols\n",
    "def get_rank(df_conhecimento):\n",
    "    # Criando classificador RF\n",
    "    rf_clas = RandomForestClassifier(n_jobs=8, n_estimators=100, max_features=5, random_state=0, max_depth=3, min_samples_split=5)\n",
    "    rf_clas.fit(df_conhecimento[colunas_stats], df_conhecimento.verifica)\n",
    "    \n",
    "    # Criando rank colunas\n",
    "    df_rank = pd.DataFrame(sorted(list(zip(colunas_stats,rf_clas.feature_importances_)), key=lambda x: x[1], reverse=True))\n",
    "    \n",
    "    # Divide colunas em 2 grupos\n",
    "    dados = df_rank[[1]].values\n",
    "    kmeans = KMeans(n_clusters=2, init='k-means++', n_init=10, max_iter=300, n_jobs=8)\n",
    "    kmeans = kmeans.fit(dados)\n",
    "    labels = kmeans.predict(dados)\n",
    "    df_rank['labels'] = labels\n",
    "    \n",
    "    return df_rank\n",
    "\n",
    "def plot_confusion_matrix(cm, classes,\n",
    "                          normalize=False,\n",
    "                          title='Confusion matrix',\n",
    "                          cmap=plt.cm.Blues):\n",
    "    \"\"\"\n",
    "    This function prints and plots the confusion matrix.\n",
    "    Normalization can be applied by setting `normalize=True`.\n",
    "    \"\"\"\n",
    "    if normalize:\n",
    "        cm = cm.astype('float') / cm.sum(axis=1)[:, np.newaxis]\n",
    "        print(\"Normalized confusion matrix\")\n",
    "    else:\n",
    "        print('Confusion matrix, without normalization')\n",
    "\n",
    "    print(cm)\n",
    "\n",
    "    plt.imshow(cm, interpolation='nearest', cmap=cmap)\n",
    "    plt.title(title)\n",
    "    plt.colorbar()\n",
    "    tick_marks = np.arange(len(classes))\n",
    "    plt.xticks(tick_marks, classes, rotation=45)\n",
    "    plt.yticks(tick_marks, classes)\n",
    "\n",
    "    fmt = '.2f' if normalize else 'd'\n",
    "    thresh = cm.max() / 2.\n",
    "    for i, j in itertools.product(range(cm.shape[0]), range(cm.shape[1])):\n",
    "        plt.text(j, i, format(cm[i, j], fmt),\n",
    "                 horizontalalignment=\"center\",\n",
    "                 color=\"white\" if cm[i, j] > thresh else \"black\")\n",
    "\n",
    "    plt.ylabel('True label')\n",
    "    plt.xlabel('Predicted label')\n",
    "    plt.tight_layout()"
   ]
  },
  {
   "cell_type": "code",
   "execution_count": 4,
   "metadata": {},
   "outputs": [],
   "source": [
    "df = pd.read_csv('conhecimento_filtrado.csv')\n",
    "\n",
    "df1 = df[df.verifica==1].copy().reset_index(drop=True)\n",
    "df3_full = df[df.verifica==3].copy().reset_index(drop=True)\n",
    "\n",
    "ids_3 = np.random.choice(df3_full.id, len(df1), replace=False)\n",
    "df3 = df[df.id.isin(ids_3)].copy().reset_index(drop=True)"
   ]
  },
  {
   "cell_type": "code",
   "execution_count": 5,
   "metadata": {},
   "outputs": [
    {
     "name": "stdout",
     "output_type": "stream",
     "text": [
      "(25786, 13)\n"
     ]
    }
   ],
   "source": [
    "df_conhecimento = pd.concat([df1, df3])\n",
    "print(df_conhecimento.shape)"
   ]
  },
  {
   "cell_type": "code",
   "execution_count": 6,
   "metadata": {},
   "outputs": [
    {
     "name": "stdout",
     "output_type": "stream",
     "text": [
      "12893\n",
      "12893\n",
      "25786\n"
     ]
    }
   ],
   "source": [
    "total_v1 = len(df1)\n",
    "print(total_v1)\n",
    "total_v3 = len(df3)\n",
    "print(total_v3)\n",
    "total = len(df_conhecimento)\n",
    "print(total)"
   ]
  },
  {
   "cell_type": "code",
   "execution_count": 7,
   "metadata": {},
   "outputs": [
    {
     "name": "stdout",
     "output_type": "stream",
     "text": [
      "7735\n"
     ]
    }
   ],
   "source": [
    "# Gera amostra para teste\n",
    "parte_30 = int((total/100)*30)\n",
    "ids_30 = np.random.choice(df_conhecimento.id, parte_30, replace=False)\n",
    "teste_original = df_conhecimento[df_conhecimento.id.isin(ids_30)].copy().reset_index(drop=True)\n",
    "teste = teste_original.copy()\n",
    "teste['verifica'] = 0\n",
    "print(len(teste_original))"
   ]
  },
  {
   "cell_type": "code",
   "execution_count": 8,
   "metadata": {},
   "outputs": [
    {
     "name": "stdout",
     "output_type": "stream",
     "text": [
      "18051\n"
     ]
    }
   ],
   "source": [
    "modelo = df_conhecimento[~df_conhecimento.id.isin(ids_30)].copy()\n",
    "print(len(modelo))"
   ]
  },
  {
   "cell_type": "code",
   "execution_count": 9,
   "metadata": {},
   "outputs": [],
   "source": [
    "colunas_stats = ['ndvi', 'nbrl', 'dif_ndvi', 'dif_dnbrl', 'medianb2', 'medianb3', 'medianb4', 'medianb5', 'medianb6', 'medianb7']"
   ]
  },
  {
   "cell_type": "code",
   "execution_count": 10,
   "metadata": {},
   "outputs": [
    {
     "name": "stdout",
     "output_type": "stream",
     "text": [
      "Criando classificador RF\n"
     ]
    },
    {
     "data": {
      "text/plain": [
       "RandomForestClassifier(bootstrap=True, class_weight=None, criterion='gini',\n",
       "            max_depth=3, max_features=5, max_leaf_nodes=None,\n",
       "            min_impurity_decrease=0.0, min_impurity_split=None,\n",
       "            min_samples_leaf=1, min_samples_split=5,\n",
       "            min_weight_fraction_leaf=0.0, n_estimators=100, n_jobs=8,\n",
       "            oob_score=False, random_state=0, verbose=0, warm_start=False)"
      ]
     },
     "execution_count": 10,
     "metadata": {},
     "output_type": "execute_result"
    }
   ],
   "source": [
    "print('Criando classificador RF')\n",
    "rf_clas = RandomForestClassifier(n_jobs=8, n_estimators=100, max_features=5, random_state=0, max_depth=3, min_samples_split=5)\n",
    "rf_clas.fit(modelo[colunas_stats], modelo.verifica)"
   ]
  },
  {
   "cell_type": "code",
   "execution_count": 11,
   "metadata": {},
   "outputs": [
    {
     "data": {
      "text/html": [
       "<div>\n",
       "<style scoped>\n",
       "    .dataframe tbody tr th:only-of-type {\n",
       "        vertical-align: middle;\n",
       "    }\n",
       "\n",
       "    .dataframe tbody tr th {\n",
       "        vertical-align: top;\n",
       "    }\n",
       "\n",
       "    .dataframe thead th {\n",
       "        text-align: right;\n",
       "    }\n",
       "</style>\n",
       "<table border=\"1\" class=\"dataframe\">\n",
       "  <thead>\n",
       "    <tr style=\"text-align: right;\">\n",
       "      <th></th>\n",
       "      <th>0</th>\n",
       "      <th>1</th>\n",
       "      <th>labels</th>\n",
       "    </tr>\n",
       "  </thead>\n",
       "  <tbody>\n",
       "    <tr>\n",
       "      <th>0</th>\n",
       "      <td>medianb5</td>\n",
       "      <td>0.497974</td>\n",
       "      <td>1</td>\n",
       "    </tr>\n",
       "    <tr>\n",
       "      <th>1</th>\n",
       "      <td>nbrl</td>\n",
       "      <td>0.269707</td>\n",
       "      <td>1</td>\n",
       "    </tr>\n",
       "    <tr>\n",
       "      <th>2</th>\n",
       "      <td>medianb6</td>\n",
       "      <td>0.089820</td>\n",
       "      <td>0</td>\n",
       "    </tr>\n",
       "    <tr>\n",
       "      <th>3</th>\n",
       "      <td>medianb3</td>\n",
       "      <td>0.078600</td>\n",
       "      <td>0</td>\n",
       "    </tr>\n",
       "    <tr>\n",
       "      <th>4</th>\n",
       "      <td>ndvi</td>\n",
       "      <td>0.034974</td>\n",
       "      <td>0</td>\n",
       "    </tr>\n",
       "    <tr>\n",
       "      <th>5</th>\n",
       "      <td>medianb2</td>\n",
       "      <td>0.017661</td>\n",
       "      <td>0</td>\n",
       "    </tr>\n",
       "    <tr>\n",
       "      <th>6</th>\n",
       "      <td>dif_ndvi</td>\n",
       "      <td>0.006555</td>\n",
       "      <td>0</td>\n",
       "    </tr>\n",
       "    <tr>\n",
       "      <th>7</th>\n",
       "      <td>medianb7</td>\n",
       "      <td>0.003773</td>\n",
       "      <td>0</td>\n",
       "    </tr>\n",
       "    <tr>\n",
       "      <th>8</th>\n",
       "      <td>medianb4</td>\n",
       "      <td>0.000915</td>\n",
       "      <td>0</td>\n",
       "    </tr>\n",
       "    <tr>\n",
       "      <th>9</th>\n",
       "      <td>dif_dnbrl</td>\n",
       "      <td>0.000020</td>\n",
       "      <td>0</td>\n",
       "    </tr>\n",
       "  </tbody>\n",
       "</table>\n",
       "</div>"
      ],
      "text/plain": [
       "           0         1  labels\n",
       "0   medianb5  0.497974       1\n",
       "1       nbrl  0.269707       1\n",
       "2   medianb6  0.089820       0\n",
       "3   medianb3  0.078600       0\n",
       "4       ndvi  0.034974       0\n",
       "5   medianb2  0.017661       0\n",
       "6   dif_ndvi  0.006555       0\n",
       "7   medianb7  0.003773       0\n",
       "8   medianb4  0.000915       0\n",
       "9  dif_dnbrl  0.000020       0"
      ]
     },
     "execution_count": 11,
     "metadata": {},
     "output_type": "execute_result"
    }
   ],
   "source": [
    "df_rank = get_rank(modelo)\n",
    "df_rank"
   ]
  },
  {
   "cell_type": "code",
   "execution_count": 12,
   "metadata": {},
   "outputs": [
    {
     "data": {
      "text/plain": [
       "['medianb5', 'nbrl']"
      ]
     },
     "execution_count": 12,
     "metadata": {},
     "output_type": "execute_result"
    }
   ],
   "source": [
    "melhores_colunas = get_melhores_colunas(df_rank)\n",
    "melhores_colunas"
   ]
  },
  {
   "cell_type": "code",
   "execution_count": 13,
   "metadata": {},
   "outputs": [
    {
     "name": "stdout",
     "output_type": "stream",
     "text": [
      "RF - Classifica dado usando as melhores colunas\n"
     ]
    }
   ],
   "source": [
    "print('RF - Classifica dado usando as melhores colunas')\n",
    "rf_clas = RandomForestClassifier(n_jobs=8, n_estimators=100, max_features=len(melhores_colunas), random_state=0, max_depth=3, min_samples_split=5)\n",
    "rf_clas.fit(modelo[melhores_colunas], modelo.verifica)\n",
    "teste['rf'] = rf_clas.predict(teste[melhores_colunas])\n",
    "teste['rf_1'] = rf_clas.predict_proba(teste[melhores_colunas])[:, 0]"
   ]
  },
  {
   "cell_type": "code",
   "execution_count": 14,
   "metadata": {},
   "outputs": [
    {
     "name": "stdout",
     "output_type": "stream",
     "text": [
      "Classificando com NN\n"
     ]
    }
   ],
   "source": [
    "print('Classificando com NN')\n",
    "nn_clas = MLPClassifier(hidden_layer_sizes=(100,), activation='relu', solver='adam', alpha=0.00010, max_iter=200)\n",
    "nn_clas.fit(modelo[melhores_colunas], modelo.verifica)\n",
    "teste['nn'] = nn_clas.predict(teste[melhores_colunas])\n",
    "teste['nn_1'] = nn_clas.predict_proba(teste[melhores_colunas])[:, 0]\n"
   ]
  },
  {
   "cell_type": "code",
   "execution_count": 15,
   "metadata": {},
   "outputs": [
    {
     "name": "stdout",
     "output_type": "stream",
     "text": [
      "Cria avaliacao usando (RF+NN)/2 - Arredondado para 3 casas decimais\n"
     ]
    }
   ],
   "source": [
    "print('Cria avaliacao usando (RF+NN)/2 - Arredondado para 3 casas decimais')\n",
    "teste['avaliacao'] = (teste[\"rf_1\"] + teste[\"nn_1\"]) / 2\n",
    "teste['avaliacao'] = teste['avaliacao'].apply(lambda x: round(x, 4))\n",
    "teste = teste.sort_values('avaliacao', ascending=False).reset_index(drop=True)"
   ]
  },
  {
   "cell_type": "code",
   "execution_count": 16,
   "metadata": {},
   "outputs": [
    {
     "data": {
      "text/plain": [
       "3    4860\n",
       "1    2875\n",
       "Name: classificacao, dtype: int64"
      ]
     },
     "execution_count": 16,
     "metadata": {},
     "output_type": "execute_result"
    }
   ],
   "source": [
    "teste['classificacao'] = teste.avaliacao.apply(lambda x: 1 if x > 0.9 else 3)\n",
    "teste['classificacao'].value_counts()"
   ]
  },
  {
   "cell_type": "code",
   "execution_count": 17,
   "metadata": {},
   "outputs": [],
   "source": [
    "y_pred = teste.sort_values('id').reset_index(drop=True)\n",
    "y_true = teste_original.sort_values('id').reset_index(drop=True)"
   ]
  },
  {
   "cell_type": "code",
   "execution_count": 18,
   "metadata": {},
   "outputs": [],
   "source": [
    "cnf_matrix = confusion_matrix(y_true.verifica, y_pred.classificacao)"
   ]
  },
  {
   "cell_type": "code",
   "execution_count": 19,
   "metadata": {},
   "outputs": [
    {
     "name": "stdout",
     "output_type": "stream",
     "text": [
      "Confusion matrix, without normalization\n",
      "[[2826 1053]\n",
      " [  49 3807]]\n",
      "Normalized confusion matrix\n",
      "[[0.72853828 0.27146172]\n",
      " [0.01270747 0.98729253]]\n"
     ]
    },
    {
     "data": {
      "image/png": "[encoded data removed]",
      "text/plain": [
       "<Figure size 432x288 with 2 Axes>"
      ]
     },
     "metadata": {
      "needs_background": "light"
     },
     "output_type": "display_data"
    },
    {
     "data": {
      "image/png": "[encoded data removed]",
      "text/plain": [
       "<Figure size 432x288 with 2 Axes>"
      ]
     },
     "metadata": {
      "needs_background": "light"
     },
     "output_type": "display_data"
    },
    {
     "name": "stdout",
     "output_type": "stream",
     "text": [
      "acertos: 6633/7735 (85%)\n"
     ]
    }
   ],
   "source": [
    "plt.figure()\n",
    "plot_confusion_matrix(cnf_matrix, classes=class_names,\n",
    "                      title='Matriz de confusão - quantitativo')\n",
    "\n",
    "plt.figure()\n",
    "plot_confusion_matrix(cnf_matrix, classes=class_names, normalize=True,\n",
    "                      title='Matriz de confusão - porcentagem')\n",
    "\n",
    "plt.show()\n",
    "total_acertos = accuracy_score(y_true.verifica, y_pred.classificacao, normalize=False)\n",
    "porcentagem_acertos = int(accuracy_score(y_true.verifica, y_pred.classificacao)*100)\n",
    "print('acertos: %s/%s (%s%%)' % (total_acertos, len(teste), porcentagem_acertos) )"
   ]
  }
 ],
 "metadata": {
  "kernelspec": {
   "display_name": "Python 3",
   "language": "python",
   "name": "python3"
  },
  "language_info": {
   "codemirror_mode": {
    "name": "ipython",
    "version": 3
   },
   "file_extension": ".py",
   "mimetype": "text/x-python",
   "name": "python",
   "nbconvert_exporter": "python",
   "pygments_lexer": "ipython3",
   "version": "3.6.6"
  }
 },
 "nbformat": 4,
 "nbformat_minor": 2
}
