{
 "cells": [
  {
   "cell_type": "code",
   "execution_count": 1,
   "metadata": {},
   "outputs": [
    {
     "name": "stderr",
     "output_type": "stream",
     "text": [
      "/home/queimadas/.conda/envs/py3/lib/python3.6/site-packages/sklearn/ensemble/weight_boosting.py:29: DeprecationWarning: numpy.core.umath_tests is an internal NumPy module and should not be imported. It will be removed in a future NumPy release.\n",
      "  from numpy.core.umath_tests import inner1d\n"
     ]
    }
   ],
   "source": [
    "import pandas as pd\n",
    "import numpy as np\n",
    "import datetime as dt\n",
    "from matplotlib import pyplot as plt\n",
    "from sklearn.cluster import KMeans\n",
    "from sklearn.ensemble import RandomForestClassifier\n",
    "from sklearn.neural_network import MLPClassifier"
   ]
  },
  {
   "cell_type": "code",
   "execution_count": 2,
   "metadata": {},
   "outputs": [],
   "source": [
    "df_conhecimento = pd.read_csv('conhecimento_filtrado.csv')"
   ]
  },
  {
   "cell_type": "code",
   "execution_count": 4,
   "metadata": {},
   "outputs": [],
   "source": [
    "df_full = pd.read_csv('dados_sem_auditoria.csv')\n",
    "id_cena = 'LS82260702018259'"
   ]
  },
  {
   "cell_type": "code",
   "execution_count": 5,
   "metadata": {},
   "outputs": [],
   "source": [
    "df = df_full[df_full['id_cena']==id_cena].copy()"
   ]
  },
  {
   "cell_type": "code",
   "execution_count": 6,
   "metadata": {},
   "outputs": [
    {
     "data": {
      "text/plain": [
       "(3618, 13)"
      ]
     },
     "execution_count": 6,
     "metadata": {},
     "output_type": "execute_result"
    }
   ],
   "source": [
    "df.shape"
   ]
  },
  {
   "cell_type": "code",
   "execution_count": 7,
   "metadata": {},
   "outputs": [],
   "source": [
    "df_conhecimento = df_conhecimento[df_conhecimento.id_cena != id_cena]"
   ]
  },
  {
   "cell_type": "code",
   "execution_count": 8,
   "metadata": {},
   "outputs": [
    {
     "data": {
      "text/plain": [
       "(81747, 13)"
      ]
     },
     "execution_count": 8,
     "metadata": {},
     "output_type": "execute_result"
    }
   ],
   "source": [
    "df_conhecimento.shape"
   ]
  },
  {
   "cell_type": "code",
   "execution_count": 9,
   "metadata": {},
   "outputs": [],
   "source": [
    "colunas_stats = ['ndvi', 'nbrl', 'dif_ndvi', 'dif_dnbrl', 'medianb2', 'medianb3', 'medianb4', 'medianb5', 'medianb6', 'medianb7']"
   ]
  },
  {
   "cell_type": "code",
   "execution_count": 10,
   "metadata": {},
   "outputs": [
    {
     "name": "stdout",
     "output_type": "stream",
     "text": [
      "----------------------\n",
      "Criando classificador RF\n",
      "----------------------\n",
      "\n",
      "\n",
      "\n"
     ]
    }
   ],
   "source": [
    "print('----------------------')\n",
    "print('Criando classificador RF')\n",
    "rf_clas = RandomForestClassifier(n_jobs=8, n_estimators=100, max_features=5, random_state=0, max_depth=3, min_samples_split=5)\n",
    "rf_clas.fit(df_conhecimento[colunas_stats], df_conhecimento.verifica)\n",
    "print('----------------------\\n\\n\\n')"
   ]
  },
  {
   "cell_type": "code",
   "execution_count": 11,
   "metadata": {},
   "outputs": [
    {
     "name": "stdout",
     "output_type": "stream",
     "text": [
      "----------------------\n",
      "Criando classificador RF\n",
      "----------------------\n",
      "\n",
      "\n",
      "\n"
     ]
    }
   ],
   "source": [
    "print('----------------------')\n",
    "print('Criando classificador RF')\n",
    "rf_clas = RandomForestClassifier(n_jobs=8, n_estimators=100, max_features=5, random_state=0, max_depth=3, min_samples_split=5)\n",
    "rf_clas.fit(df_conhecimento[colunas_stats], df_conhecimento.verifica)\n",
    "print('----------------------\\n\\n\\n')\n"
   ]
  },
  {
   "cell_type": "code",
   "execution_count": 12,
   "metadata": {},
   "outputs": [
    {
     "name": "stdout",
     "output_type": "stream",
     "text": [
      "----------------------\n",
      "Criando rank_RF colunas\n",
      "----------------------\n",
      "\n",
      "\n",
      "\n"
     ]
    }
   ],
   "source": [
    "print('----------------------')\n",
    "print('Criando rank_RF colunas')\n",
    "df_rank_rf = pd.DataFrame(sorted(list(zip(colunas_stats,rf_clas.feature_importances_)), key=lambda x: x[1], reverse=True))\n",
    "print('----------------------\\n\\n\\n')"
   ]
  },
  {
   "cell_type": "code",
   "execution_count": 13,
   "metadata": {},
   "outputs": [
    {
     "name": "stdout",
     "output_type": "stream",
     "text": [
      "----------------------\n",
      "Divide colunas em 2 grupos - RF\n",
      "----------------------\n",
      "\n",
      "\n",
      "\n"
     ]
    }
   ],
   "source": [
    "print('----------------------')\n",
    "print('Divide colunas em 2 grupos - RF')\n",
    "dados = df_rank_rf[[1]].values\n",
    "kmeans = KMeans(n_clusters=2, init='k-means++', n_init=10, max_iter=300, n_jobs=8)\n",
    "kmeans = kmeans.fit(dados)\n",
    "labels = kmeans.predict(dados)\n",
    "df_rank_rf['labels'] = labels\n",
    "print('----------------------\\n\\n\\n')\n"
   ]
  },
  {
   "cell_type": "code",
   "execution_count": 14,
   "metadata": {},
   "outputs": [
    {
     "data": {
      "text/html": [
       "<div>\n",
       "<style scoped>\n",
       "    .dataframe tbody tr th:only-of-type {\n",
       "        vertical-align: middle;\n",
       "    }\n",
       "\n",
       "    .dataframe tbody tr th {\n",
       "        vertical-align: top;\n",
       "    }\n",
       "\n",
       "    .dataframe thead th {\n",
       "        text-align: right;\n",
       "    }\n",
       "</style>\n",
       "<table border=\"1\" class=\"dataframe\">\n",
       "  <thead>\n",
       "    <tr style=\"text-align: right;\">\n",
       "      <th></th>\n",
       "      <th>0</th>\n",
       "      <th>1</th>\n",
       "      <th>labels</th>\n",
       "    </tr>\n",
       "  </thead>\n",
       "  <tbody>\n",
       "    <tr>\n",
       "      <th>0</th>\n",
       "      <td>medianb5</td>\n",
       "      <td>0.429695</td>\n",
       "      <td>1</td>\n",
       "    </tr>\n",
       "    <tr>\n",
       "      <th>1</th>\n",
       "      <td>nbrl</td>\n",
       "      <td>0.242108</td>\n",
       "      <td>1</td>\n",
       "    </tr>\n",
       "    <tr>\n",
       "      <th>2</th>\n",
       "      <td>dif_ndvi</td>\n",
       "      <td>0.093210</td>\n",
       "      <td>0</td>\n",
       "    </tr>\n",
       "    <tr>\n",
       "      <th>3</th>\n",
       "      <td>medianb6</td>\n",
       "      <td>0.092482</td>\n",
       "      <td>0</td>\n",
       "    </tr>\n",
       "    <tr>\n",
       "      <th>4</th>\n",
       "      <td>medianb3</td>\n",
       "      <td>0.067609</td>\n",
       "      <td>0</td>\n",
       "    </tr>\n",
       "    <tr>\n",
       "      <th>5</th>\n",
       "      <td>ndvi</td>\n",
       "      <td>0.046316</td>\n",
       "      <td>0</td>\n",
       "    </tr>\n",
       "    <tr>\n",
       "      <th>6</th>\n",
       "      <td>medianb2</td>\n",
       "      <td>0.010345</td>\n",
       "      <td>0</td>\n",
       "    </tr>\n",
       "    <tr>\n",
       "      <th>7</th>\n",
       "      <td>medianb7</td>\n",
       "      <td>0.008553</td>\n",
       "      <td>0</td>\n",
       "    </tr>\n",
       "    <tr>\n",
       "      <th>8</th>\n",
       "      <td>dif_dnbrl</td>\n",
       "      <td>0.008404</td>\n",
       "      <td>0</td>\n",
       "    </tr>\n",
       "    <tr>\n",
       "      <th>9</th>\n",
       "      <td>medianb4</td>\n",
       "      <td>0.001280</td>\n",
       "      <td>0</td>\n",
       "    </tr>\n",
       "  </tbody>\n",
       "</table>\n",
       "</div>"
      ],
      "text/plain": [
       "           0         1  labels\n",
       "0   medianb5  0.429695       1\n",
       "1       nbrl  0.242108       1\n",
       "2   dif_ndvi  0.093210       0\n",
       "3   medianb6  0.092482       0\n",
       "4   medianb3  0.067609       0\n",
       "5       ndvi  0.046316       0\n",
       "6   medianb2  0.010345       0\n",
       "7   medianb7  0.008553       0\n",
       "8  dif_dnbrl  0.008404       0\n",
       "9   medianb4  0.001280       0"
      ]
     },
     "execution_count": 14,
     "metadata": {},
     "output_type": "execute_result"
    }
   ],
   "source": [
    "df_rank_rf"
   ]
  },
  {
   "cell_type": "code",
   "execution_count": 15,
   "metadata": {},
   "outputs": [
    {
     "name": "stdout",
     "output_type": "stream",
     "text": [
      "----------------------\n",
      "Utiliza somente o grupo colunas mais relevante RF\n",
      "0    medianb5\n",
      "1        nbrl\n",
      "Name: 0, dtype: object\n",
      "----------------------\n",
      "\n",
      "\n",
      "\n"
     ]
    }
   ],
   "source": [
    "print('----------------------')\n",
    "print('Utiliza somente o grupo colunas mais relevante RF')\n",
    "label_grupo_bom = df_rank_rf[df_rank_rf[1]==df_rank_rf[1].max()].labels.values[0]\n",
    "colunas_usadas_rf = df_rank_rf[df_rank_rf['labels']==label_grupo_bom][0]\n",
    "print (colunas_usadas_rf)\n",
    "print('----------------------\\n\\n\\n')\n"
   ]
  },
  {
   "cell_type": "code",
   "execution_count": 16,
   "metadata": {},
   "outputs": [
    {
     "name": "stdout",
     "output_type": "stream",
     "text": [
      "----------------------\n",
      "RF - Classifica dado usando as melhores colunas\n",
      "----------------------\n",
      "\n",
      "\n",
      "\n"
     ]
    }
   ],
   "source": [
    "\n",
    "print('----------------------')\n",
    "print('RF - Classifica dado usando as melhores colunas')\n",
    "rf_clas = RandomForestClassifier(n_jobs=8, n_estimators=100, max_features=len(colunas_usadas_rf), random_state=0, max_depth=3, min_samples_split=5)\n",
    "rf_clas.fit(df_conhecimento[colunas_usadas_rf], df_conhecimento.verifica)\n",
    "df['rf'] = rf_clas.predict(df[colunas_usadas_rf])\n",
    "df['rf_1'] = rf_clas.predict_proba(df[colunas_usadas_rf])[:, 0]\n",
    "print('----------------------\\n\\n\\n')\n"
   ]
  },
  {
   "cell_type": "code",
   "execution_count": 17,
   "metadata": {},
   "outputs": [
    {
     "name": "stdout",
     "output_type": "stream",
     "text": [
      "----------------------\n",
      "Classificando com NN\n",
      "----------------------\n",
      "\n",
      "\n",
      "\n"
     ]
    }
   ],
   "source": [
    "print('----------------------')\n",
    "print('Classificando com NN')\n",
    "nn_clas = MLPClassifier(hidden_layer_sizes=(100,), activation='relu', solver='adam', alpha=0.00010, max_iter=200)\n",
    "nn_clas.fit(df_conhecimento[colunas_usadas_rf], df_conhecimento.verifica)\n",
    "df['nn'] = nn_clas.predict(df[colunas_usadas_rf])\n",
    "df['nn_1'] = nn_clas.predict_proba(df[colunas_usadas_rf])[:, 0]\n",
    "print('----------------------\\n\\n\\n')\n"
   ]
  },
  {
   "cell_type": "code",
   "execution_count": 18,
   "metadata": {},
   "outputs": [
    {
     "name": "stdout",
     "output_type": "stream",
     "text": [
      "----------------------\n",
      "Normaliza dados RF e NN\n",
      "----------------------\n",
      "\n",
      "\n",
      "\n"
     ]
    }
   ],
   "source": [
    "print('----------------------')\n",
    "print('Normaliza dados RF e NN')\n",
    "rf_max = df.rf_1.max()\n",
    "rf_min = df.rf_1.min()\n",
    "\n",
    "nn_max = df.nn_1.max()\n",
    "nn_min = df.nn_1.min()\n",
    "\n",
    "df['rf_1'] = (df.rf_1 - rf_min)/(rf_max-rf_min)\n",
    "df['nn_1'] = (df.nn_1 - nn_min)/(nn_max-nn_min)  # NN normalizado\n",
    "print('----------------------\\n\\n\\n')\n",
    "\n"
   ]
  },
  {
   "cell_type": "code",
   "execution_count": 19,
   "metadata": {},
   "outputs": [
    {
     "name": "stdout",
     "output_type": "stream",
     "text": [
      "----------------------\n",
      "Cria avaliacao usando (RF+NN)/2 - Arredondado para 3 casas decimais\n",
      "----------------------\n",
      "\n",
      "\n",
      "\n"
     ]
    }
   ],
   "source": [
    "\n",
    "print('----------------------')\n",
    "print('Cria avaliacao usando (RF+NN)/2 - Arredondado para 3 casas decimais')\n",
    "df['avaliacao'] = (df[\"rf_1\"] + df[\"nn_1\"]) / 2\n",
    "df['avaliacao'] = df['avaliacao'].apply(lambda x: round(x, 4))\n",
    "df = df.sort_values('avaliacao', ascending=False).reset_index(drop=True)\n",
    "print('----------------------\\n\\n\\n')\n"
   ]
  },
  {
   "cell_type": "code",
   "execution_count": 20,
   "metadata": {},
   "outputs": [
    {
     "name": "stdout",
     "output_type": "stream",
     "text": [
      "----------------------\n",
      "Linhas sem nuvem > 0.05 398\n",
      "----------------------\n",
      "\n",
      "\n",
      "\n"
     ]
    }
   ],
   "source": [
    "\n",
    "print('----------------------')\n",
    "df_saida = df[df['avaliacao'] > 0.05]\n",
    "print('Linhas sem nuvem > 0.05', len(df[df['avaliacao'] > 0.05]))\n",
    "print('----------------------\\n\\n\\n')\n"
   ]
  },
  {
   "cell_type": "markdown",
   "metadata": {},
   "source": [
    "<h1>TODO </h1>\n",
    "<pre>\n",
    "- Gerar uma amostra de 1000\n",
    "- Pegar esta amostra e remove-la do conhecimento\n",
    "- Limpar tag verifica\n",
    "- Bateria de teste com conhecimentos diferentes(todos conhecimentos sem a amostra atual avaliada):\n",
    "-- Conhecimento completo e TODAS colunas\n",
    "-- Conhecimento completo e colunas selecionadas\n",
    "-- Conhecimento gerado com AAS(amostra aleatoria simples) e TODAS colunas\n",
    "-- Conhecimento gerado com AAS(amostra aleatoria simples) e colunas selecionadas\n",
    "-- Conhecimento trimestre historico\n",
    "- Gerar matriz de confusão para cada teste\n",
    "</pre>"
   ]
  },
  {
   "cell_type": "code",
   "execution_count": null,
   "metadata": {},
   "outputs": [],
   "source": []
  }
 ],
 "metadata": {
  "kernelspec": {
   "display_name": "Python 3",
   "language": "python",
   "name": "python3"
  },
  "language_info": {
   "codemirror_mode": {
    "name": "ipython",
    "version": 3
   },
   "file_extension": ".py",
   "mimetype": "text/x-python",
   "name": "python",
   "nbconvert_exporter": "python",
   "pygments_lexer": "ipython3",
   "version": "3.6.6"
  }
 },
 "nbformat": 4,
 "nbformat_minor": 2
}
